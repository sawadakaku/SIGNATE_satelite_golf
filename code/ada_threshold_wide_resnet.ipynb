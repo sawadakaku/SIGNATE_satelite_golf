{
 "cells": [
  {
   "cell_type": "markdown",
   "metadata": {},
   "source": [
    "## google colabolatoryで実行する"
   ]
  },
  {
   "cell_type": "code",
   "execution_count": 1,
   "metadata": {
    "colab": {
     "autoexec": {
      "startup": false,
      "wait_interval": 0
     },
     "base_uri": "https://localhost:8080/",
     "height": 272
    },
    "colab_type": "code",
    "executionInfo": {
     "elapsed": 8176,
     "status": "ok",
     "timestamp": 1524751156878,
     "user": {
      "displayName": "澤田格",
      "photoUrl": "https://lh3.googleusercontent.com/a/default-user=s128",
      "userId": "108006320976410388579"
     },
     "user_tz": -540
    },
    "id": "3iOD9NqOaFBo",
    "outputId": "65d7dc41-a2ad-47b4-ac93-9a94e7940e1f"
   },
   "outputs": [
    {
     "data": {
      "text/plain": [
       "[name: \"/device:CPU:0\"\n",
       " device_type: \"CPU\"\n",
       " memory_limit: 268435456\n",
       " locality {\n",
       " }\n",
       " incarnation: 1855662175749918341, name: \"/device:GPU:0\"\n",
       " device_type: \"GPU\"\n",
       " memory_limit: 11288962663\n",
       " locality {\n",
       "   bus_id: 1\n",
       "   links {\n",
       "   }\n",
       " }\n",
       " incarnation: 8152397731499310177\n",
       " physical_device_desc: \"device: 0, name: Tesla K80, pci bus id: 0000:00:04.0, compute capability: 3.7\"]"
      ]
     },
     "execution_count": 1,
     "metadata": {
      "tags": []
     },
     "output_type": "execute_result"
    }
   ],
   "source": [
    "from tensorflow.python.client import device_lib\n",
    "device_lib.list_local_devices()"
   ]
  },
  {
   "cell_type": "code",
   "execution_count": 3,
   "metadata": {
    "colab": {
     "autoexec": {
      "startup": false,
      "wait_interval": 0
     },
     "base_uri": "https://localhost:8080/",
     "height": 1989
    },
    "colab_type": "code",
    "executionInfo": {
     "elapsed": 13423,
     "status": "ok",
     "timestamp": 1524751183352,
     "user": {
      "displayName": "澤田格",
      "photoUrl": "https://lh3.googleusercontent.com/a/default-user=s128",
      "userId": "108006320976410388579"
     },
     "user_tz": -540
    },
    "id": "dM3VrhNsl9tL",
    "outputId": "4694c62e-f7ed-473a-9904-5fda5b331439"
   },
   "outputs": [
    {
     "name": "stdout",
     "output_type": "stream",
     "text": [
      "Selecting previously unselected package fontconfig.\n",
      "(Reading database ... 18298 files and directories currently installed.)\n",
      "Preparing to unpack .../00-fontconfig_2.11.94-0ubuntu2_amd64.deb ...\n",
      "Unpacking fontconfig (2.11.94-0ubuntu2) ...\n",
      "Selecting previously unselected package libjbig0:amd64.\n",
      "Preparing to unpack .../01-libjbig0_2.1-3.1_amd64.deb ...\n",
      "Unpacking libjbig0:amd64 (2.1-3.1) ...\n",
      "Selecting previously unselected package libcdt5.\n",
      "Preparing to unpack .../02-libcdt5_2.38.0-16ubuntu2_amd64.deb ...\n",
      "Unpacking libcdt5 (2.38.0-16ubuntu2) ...\n",
      "Selecting previously unselected package libcgraph6.\n",
      "Preparing to unpack .../03-libcgraph6_2.38.0-16ubuntu2_amd64.deb ...\n",
      "Unpacking libcgraph6 (2.38.0-16ubuntu2) ...\n",
      "Selecting previously unselected package libtiff5:amd64.\n",
      "Preparing to unpack .../04-libtiff5_4.0.8-5ubuntu0.1_amd64.deb ...\n",
      "Unpacking libtiff5:amd64 (4.0.8-5ubuntu0.1) ...\n",
      "Selecting previously unselected package libwebp6:amd64.\n",
      "Preparing to unpack .../05-libwebp6_0.6.0-3_amd64.deb ...\n",
      "Unpacking libwebp6:amd64 (0.6.0-3) ...\n",
      "Selecting previously unselected package libxpm4:amd64.\n",
      "Preparing to unpack .../06-libxpm4_1%3a3.5.12-1_amd64.deb ...\n",
      "Unpacking libxpm4:amd64 (1:3.5.12-1) ...\n",
      "Selecting previously unselected package libgd3:amd64.\n",
      "Preparing to unpack .../07-libgd3_2.2.5-3_amd64.deb ...\n",
      "Unpacking libgd3:amd64 (2.2.5-3) ...\n",
      "Selecting previously unselected package libpixman-1-0:amd64.\n",
      "Preparing to unpack .../08-libpixman-1-0_0.34.0-1_amd64.deb ...\n",
      "Unpacking libpixman-1-0:amd64 (0.34.0-1) ...\n",
      "Selecting previously unselected package libxcb-render0:amd64.\n",
      "Preparing to unpack .../09-libxcb-render0_1.12-1ubuntu1_amd64.deb ...\n",
      "Unpacking libxcb-render0:amd64 (1.12-1ubuntu1) ...\n",
      "Selecting previously unselected package libxcb-shm0:amd64.\n",
      "Preparing to unpack .../10-libxcb-shm0_1.12-1ubuntu1_amd64.deb ...\n",
      "Unpacking libxcb-shm0:amd64 (1.12-1ubuntu1) ...\n",
      "Selecting previously unselected package libcairo2:amd64.\n",
      "Preparing to unpack .../11-libcairo2_1.14.10-1ubuntu1_amd64.deb ...\n",
      "Unpacking libcairo2:amd64 (1.14.10-1ubuntu1) ...\n",
      "Selecting previously unselected package libltdl7:amd64.\n",
      "Preparing to unpack .../12-libltdl7_2.4.6-2_amd64.deb ...\n",
      "Unpacking libltdl7:amd64 (2.4.6-2) ...\n",
      "Selecting previously unselected package libthai-data.\n",
      "Preparing to unpack .../13-libthai-data_0.1.26-3_all.deb ...\n",
      "Unpacking libthai-data (0.1.26-3) ...\n",
      "Selecting previously unselected package libdatrie1:amd64.\n",
      "Preparing to unpack .../14-libdatrie1_0.2.10-5_amd64.deb ...\n",
      "Unpacking libdatrie1:amd64 (0.2.10-5) ...\n",
      "Selecting previously unselected package libthai0:amd64.\n",
      "Preparing to unpack .../15-libthai0_0.1.26-3_amd64.deb ...\n",
      "Unpacking libthai0:amd64 (0.1.26-3) ...\n",
      "Selecting previously unselected package libpango-1.0-0:amd64.\n",
      "Preparing to unpack .../16-libpango-1.0-0_1.40.12-1_amd64.deb ...\n",
      "Unpacking libpango-1.0-0:amd64 (1.40.12-1) ...\n",
      "Selecting previously unselected package libgraphite2-3:amd64.\n",
      "Preparing to unpack .../17-libgraphite2-3_1.3.10-2_amd64.deb ...\n",
      "Unpacking libgraphite2-3:amd64 (1.3.10-2) ...\n",
      "Selecting previously unselected package libharfbuzz0b:amd64.\n",
      "Preparing to unpack .../18-libharfbuzz0b_1.4.2-1_amd64.deb ...\n",
      "Unpacking libharfbuzz0b:amd64 (1.4.2-1) ...\n",
      "Selecting previously unselected package libpangoft2-1.0-0:amd64.\n",
      "Preparing to unpack .../19-libpangoft2-1.0-0_1.40.12-1_amd64.deb ...\n",
      "Unpacking libpangoft2-1.0-0:amd64 (1.40.12-1) ...\n",
      "Selecting previously unselected package libpangocairo-1.0-0:amd64.\n",
      "Preparing to unpack .../20-libpangocairo-1.0-0_1.40.12-1_amd64.deb ...\n",
      "Unpacking libpangocairo-1.0-0:amd64 (1.40.12-1) ...\n",
      "Selecting previously unselected package libpathplan4.\n",
      "Preparing to unpack .../21-libpathplan4_2.38.0-16ubuntu2_amd64.deb ...\n",
      "Unpacking libpathplan4 (2.38.0-16ubuntu2) ...\n",
      "Selecting previously unselected package libgvc6.\n",
      "Preparing to unpack .../22-libgvc6_2.38.0-16ubuntu2_amd64.deb ...\n",
      "Unpacking libgvc6 (2.38.0-16ubuntu2) ...\n",
      "Selecting previously unselected package libgvpr2.\n",
      "Preparing to unpack .../23-libgvpr2_2.38.0-16ubuntu2_amd64.deb ...\n",
      "Unpacking libgvpr2 (2.38.0-16ubuntu2) ...\n",
      "Selecting previously unselected package libxt6:amd64.\n",
      "Preparing to unpack .../24-libxt6_1%3a1.1.5-1_amd64.deb ...\n",
      "Unpacking libxt6:amd64 (1:1.1.5-1) ...\n",
      "Selecting previously unselected package libxmu6:amd64.\n",
      "Preparing to unpack .../25-libxmu6_2%3a1.1.2-2_amd64.deb ...\n",
      "Unpacking libxmu6:amd64 (2:1.1.2-2) ...\n",
      "Selecting previously unselected package libxaw7:amd64.\n",
      "Preparing to unpack .../26-libxaw7_2%3a1.0.13-1_amd64.deb ...\n",
      "Unpacking libxaw7:amd64 (2:1.0.13-1) ...\n",
      "Selecting previously unselected package graphviz.\n",
      "Preparing to unpack .../27-graphviz_2.38.0-16ubuntu2_amd64.deb ...\n",
      "Unpacking graphviz (2.38.0-16ubuntu2) ...\n",
      "Setting up libpathplan4 (2.38.0-16ubuntu2) ...\n",
      "Setting up libxcb-render0:amd64 (1.12-1ubuntu1) ...\n",
      "Setting up libjbig0:amd64 (2.1-3.1) ...\n",
      "Setting up libdatrie1:amd64 (0.2.10-5) ...\n",
      "Setting up libtiff5:amd64 (4.0.8-5ubuntu0.1) ...\n",
      "Setting up libgraphite2-3:amd64 (1.3.10-2) ...\n",
      "Setting up libpixman-1-0:amd64 (0.34.0-1) ...\n",
      "Processing triggers for libc-bin (2.26-0ubuntu2.1) ...\n",
      "Setting up libltdl7:amd64 (2.4.6-2) ...\n",
      "Setting up libxcb-shm0:amd64 (1.12-1ubuntu1) ...\n",
      "Setting up libxpm4:amd64 (1:3.5.12-1) ...\n",
      "Setting up libxt6:amd64 (1:1.1.5-1) ...\n",
      "Setting up libthai-data (0.1.26-3) ...\n",
      "Setting up libcdt5 (2.38.0-16ubuntu2) ...\n",
      "Setting up fontconfig (2.11.94-0ubuntu2) ...\n",
      "Regenerating fonts cache... done.\n",
      "Setting up libcgraph6 (2.38.0-16ubuntu2) ...\n",
      "Setting up libwebp6:amd64 (0.6.0-3) ...\n",
      "Setting up libcairo2:amd64 (1.14.10-1ubuntu1) ...\n",
      "Setting up libgvpr2 (2.38.0-16ubuntu2) ...\n",
      "Setting up libgd3:amd64 (2.2.5-3) ...\n",
      "Setting up libharfbuzz0b:amd64 (1.4.2-1) ...\n",
      "Setting up libthai0:amd64 (0.1.26-3) ...\n",
      "Setting up libxmu6:amd64 (2:1.1.2-2) ...\n",
      "Setting up libpango-1.0-0:amd64 (1.40.12-1) ...\n",
      "Setting up libxaw7:amd64 (2:1.0.13-1) ...\n",
      "Setting up libpangoft2-1.0-0:amd64 (1.40.12-1) ...\n",
      "Setting up libpangocairo-1.0-0:amd64 (1.40.12-1) ...\n",
      "Setting up libgvc6 (2.38.0-16ubuntu2) ...\n",
      "Setting up graphviz (2.38.0-16ubuntu2) ...\n",
      "Processing triggers for libc-bin (2.26-0ubuntu2.1) ...\n"
     ]
    }
   ],
   "source": [
    "# https://pypi.python.org/pypi/pydot\n",
    "!apt-get -qq install -y graphviz && pip install -q pydot"
   ]
  },
  {
   "cell_type": "code",
   "execution_count": 4,
   "metadata": {
    "colab": {
     "autoexec": {
      "startup": false,
      "wait_interval": 0
     },
     "base_uri": "https://localhost:8080/",
     "height": 360
    },
    "colab_type": "code",
    "executionInfo": {
     "elapsed": 9550,
     "status": "ok",
     "timestamp": 1524751192971,
     "user": {
      "displayName": "澤田格",
      "photoUrl": "https://lh3.googleusercontent.com/a/default-user=s128",
      "userId": "108006320976410388579"
     },
     "user_tz": -540
    },
    "id": "AvYjOfQamCnx",
    "outputId": "202e3312-0256-4b94-82de-1307c0e25c1b"
   },
   "outputs": [
    {
     "name": "stdout",
     "output_type": "stream",
     "text": [
      "Looking in indexes: https://pypi.org/simple, https://legacy.pypi.org/simple\n",
      "Requirement already up-to-date: pip in /usr/local/lib/python3.6/dist-packages (10.0.1)\n",
      "Looking in indexes: https://pypi.org/simple, https://legacy.pypi.org/simple\n",
      "Collecting tifffile\n",
      "\u001b[?25l  Downloading https://files.pythonhosted.org/packages/59/20/b57eb152ab729e1258e11156b14945e719c1e8fcbffdfa7221c984e89326/tifffile-0.14.0.tar.gz (99kB)\n",
      "\u001b[K    100% |████████████████████████████████| 102kB 2.6MB/s \n",
      "\u001b[?25hRequirement already satisfied: numpy>=1.8.2 in /usr/local/lib/python3.6/dist-packages (from tifffile) (1.14.2)\n",
      "Building wheels for collected packages: tifffile\n",
      "  Running setup.py bdist_wheel for tifffile ... \u001b[?25l-\b \b\\\b \b|\b \b/\b \bdone\n",
      "\u001b[?25h  Stored in directory: /content/.cache/pip/wheels/e9/91/46/db4fb74fbcdff3b70620b4da0099b3a3729ba5367824b56f5e\n",
      "Successfully built tifffile\n",
      "Installing collected packages: tifffile\n",
      "Successfully installed tifffile-0.14.0\n",
      "Looking in indexes: https://pypi.org/simple, https://legacy.pypi.org/simple\n",
      "Collecting tqdm\n",
      "\u001b[?25l  Downloading https://files.pythonhosted.org/packages/c2/d4/bf1d99216672eef50392c009a8d0f282c4b643e4f764c962ff7b611ebce4/tqdm-4.23.1-py2.py3-none-any.whl (42kB)\n",
      "\u001b[K    100% |████████████████████████████████| 51kB 2.0MB/s \n",
      "\u001b[?25hInstalling collected packages: tqdm\n",
      "Successfully installed tqdm-4.23.1\n"
     ]
    }
   ],
   "source": [
    "!pip install -U pip\n",
    "!pip install tifffile\n",
    "!pip install tqdm"
   ]
  },
  {
   "cell_type": "code",
   "execution_count": 5,
   "metadata": {
    "colab": {
     "autoexec": {
      "startup": false,
      "wait_interval": 0
     },
     "base_uri": "https://localhost:8080/",
     "height": 2278
    },
    "colab_type": "code",
    "executionInfo": {
     "elapsed": 33683,
     "status": "ok",
     "timestamp": 1524751226713,
     "user": {
      "displayName": "澤田格",
      "photoUrl": "https://lh3.googleusercontent.com/a/default-user=s128",
      "userId": "108006320976410388579"
     },
     "user_tz": -540
    },
    "id": "768P0atAmG1W",
    "outputId": "5b88a4ea-da85-4cda-e0aa-6db57728882c"
   },
   "outputs": [
    {
     "name": "stdout",
     "output_type": "stream",
     "text": [
      "Preconfiguring packages ...\n",
      "Selecting previously unselected package cron.\n",
      "(Reading database ... 18591 files and directories currently installed.)\n",
      "Preparing to unpack .../00-cron_3.0pl1-128ubuntu5_amd64.deb ...\n",
      "Unpacking cron (3.0pl1-128ubuntu5) ...\n",
      "Selecting previously unselected package libapparmor1:amd64.\n",
      "Preparing to unpack .../01-libapparmor1_2.11.0-2ubuntu17.1_amd64.deb ...\n",
      "Unpacking libapparmor1:amd64 (2.11.0-2ubuntu17.1) ...\n",
      "Selecting previously unselected package libdbus-1-3:amd64.\n",
      "Preparing to unpack .../02-libdbus-1-3_1.10.22-1ubuntu1_amd64.deb ...\n",
      "Unpacking libdbus-1-3:amd64 (1.10.22-1ubuntu1) ...\n",
      "Selecting previously unselected package dbus.\n",
      "Preparing to unpack .../03-dbus_1.10.22-1ubuntu1_amd64.deb ...\n",
      "Unpacking dbus (1.10.22-1ubuntu1) ...\n",
      "Selecting previously unselected package dirmngr.\n",
      "Preparing to unpack .../04-dirmngr_2.1.15-1ubuntu8_amd64.deb ...\n",
      "Unpacking dirmngr (2.1.15-1ubuntu8) ...\n",
      "Selecting previously unselected package distro-info-data.\n",
      "Preparing to unpack .../05-distro-info-data_0.36ubuntu0.1_all.deb ...\n",
      "Unpacking distro-info-data (0.36ubuntu0.1) ...\n",
      "Selecting previously unselected package libkmod2:amd64.\n",
      "Preparing to unpack .../06-libkmod2_24-1ubuntu2_amd64.deb ...\n",
      "Unpacking libkmod2:amd64 (24-1ubuntu2) ...\n",
      "Selecting previously unselected package kmod.\n",
      "Preparing to unpack .../07-kmod_24-1ubuntu2_amd64.deb ...\n",
      "Unpacking kmod (24-1ubuntu2) ...\n",
      "Selecting previously unselected package lsb-release.\n",
      "Preparing to unpack .../08-lsb-release_9.20160110ubuntu5_all.deb ...\n",
      "Unpacking lsb-release (9.20160110ubuntu5) ...\n",
      "Selecting previously unselected package libgirepository-1.0-1:amd64.\n",
      "Preparing to unpack .../09-libgirepository-1.0-1_1.54.1-1_amd64.deb ...\n",
      "Unpacking libgirepository-1.0-1:amd64 (1.54.1-1) ...\n",
      "Selecting previously unselected package gir1.2-glib-2.0:amd64.\n",
      "Preparing to unpack .../10-gir1.2-glib-2.0_1.54.1-1_amd64.deb ...\n",
      "Unpacking gir1.2-glib-2.0:amd64 (1.54.1-1) ...\n",
      "Selecting previously unselected package iso-codes.\n",
      "Preparing to unpack .../11-iso-codes_3.75-1_all.deb ...\n",
      "Unpacking iso-codes (3.75-1) ...\n",
      "Selecting previously unselected package libdbus-glib-1-2:amd64.\n",
      "Preparing to unpack .../12-libdbus-glib-1-2_0.108-2_amd64.deb ...\n",
      "Unpacking libdbus-glib-1-2:amd64 (0.108-2) ...\n",
      "Selecting previously unselected package python-apt-common.\n",
      "Preparing to unpack .../13-python-apt-common_1.4.0~beta3build2_all.deb ...\n",
      "Unpacking python-apt-common (1.4.0~beta3build2) ...\n",
      "Selecting previously unselected package python3-apt.\n",
      "Preparing to unpack .../14-python3-apt_1.4.0~beta3build2_amd64.deb ...\n",
      "Unpacking python3-apt (1.4.0~beta3build2) ...\n",
      "Selecting previously unselected package python3-dbus.\n",
      "Preparing to unpack .../15-python3-dbus_1.2.4-1build3_amd64.deb ...\n",
      "Unpacking python3-dbus (1.2.4-1build3) ...\n",
      "Selecting previously unselected package python3-gi.\n",
      "Preparing to unpack .../16-python3-gi_3.24.1-2build1_amd64.deb ...\n",
      "Unpacking python3-gi (3.24.1-2build1) ...\n",
      "Selecting previously unselected package module-init-tools.\n",
      "Preparing to unpack .../17-module-init-tools_24-1ubuntu2_all.deb ...\n",
      "Unpacking module-init-tools (24-1ubuntu2) ...\n",
      "Selecting previously unselected package python-apt.\n",
      "Preparing to unpack .../18-python-apt_1.4.0~beta3build2_amd64.deb ...\n",
      "Unpacking python-apt (1.4.0~beta3build2) ...\n",
      "Selecting previously unselected package python-pycurl.\n",
      "Preparing to unpack .../19-python-pycurl_7.43.0-2build2_amd64.deb ...\n",
      "Unpacking python-pycurl (7.43.0-2build2) ...\n",
      "Selecting previously unselected package python-software-properties.\n",
      "Preparing to unpack .../20-python-software-properties_0.96.24.17_all.deb ...\n",
      "Unpacking python-software-properties (0.96.24.17) ...\n",
      "Selecting previously unselected package python3-software-properties.\n",
      "Preparing to unpack .../21-python3-software-properties_0.96.24.17_all.deb ...\n",
      "Unpacking python3-software-properties (0.96.24.17) ...\n",
      "Selecting previously unselected package software-properties-common.\n",
      "Preparing to unpack .../22-software-properties-common_0.96.24.17_all.deb ...\n",
      "Unpacking software-properties-common (0.96.24.17) ...\n",
      "Selecting previously unselected package unattended-upgrades.\n",
      "Preparing to unpack .../23-unattended-upgrades_0.98ubuntu1.1_all.deb ...\n",
      "Unpacking unattended-upgrades (0.98ubuntu1.1) ...\n",
      "Setting up python-apt-common (1.4.0~beta3build2) ...\n",
      "Setting up python3-apt (1.4.0~beta3build2) ...\n",
      "Setting up iso-codes (3.75-1) ...\n",
      "Setting up distro-info-data (0.36ubuntu0.1) ...\n",
      "Setting up python-pycurl (7.43.0-2build2) ...\n",
      "Setting up lsb-release (9.20160110ubuntu5) ...\n",
      "Setting up libgirepository-1.0-1:amd64 (1.54.1-1) ...\n",
      "Setting up libkmod2:amd64 (24-1ubuntu2) ...\n",
      "Setting up gir1.2-glib-2.0:amd64 (1.54.1-1) ...\n",
      "Processing triggers for libc-bin (2.26-0ubuntu2.1) ...\n",
      "Setting up libapparmor1:amd64 (2.11.0-2ubuntu17.1) ...\n",
      "Setting up unattended-upgrades (0.98ubuntu1.1) ...\n",
      "\n",
      "Creating config file /etc/apt/apt.conf.d/20auto-upgrades with new version\n",
      "\n",
      "Creating config file /etc/apt/apt.conf.d/50unattended-upgrades with new version\n",
      "invoke-rc.d: could not determine current runlevel\n",
      "invoke-rc.d: policy-rc.d denied execution of start.\n",
      "Setting up dirmngr (2.1.15-1ubuntu8) ...\n",
      "Setting up cron (3.0pl1-128ubuntu5) ...\n",
      "Adding group `crontab' (GID 102) ...\n",
      "Done.\n",
      "update-rc.d: warning: start and stop actions are no longer supported; falling back to defaults\n",
      "update-rc.d: warning: stop runlevel arguments (1) do not match cron Default-Stop values (none)\n",
      "invoke-rc.d: could not determine current runlevel\n",
      "invoke-rc.d: policy-rc.d denied execution of start.\n",
      "Setting up libdbus-1-3:amd64 (1.10.22-1ubuntu1) ...\n",
      "Setting up kmod (24-1ubuntu2) ...\n",
      "Setting up libdbus-glib-1-2:amd64 (0.108-2) ...\n",
      "Setting up python3-gi (3.24.1-2build1) ...\n",
      "Setting up module-init-tools (24-1ubuntu2) ...\n",
      "Setting up python3-software-properties (0.96.24.17) ...\n",
      "Setting up dbus (1.10.22-1ubuntu1) ...\n",
      "Setting up python-apt (1.4.0~beta3build2) ...\n",
      "Setting up python3-dbus (1.2.4-1build3) ...\n",
      "Setting up python-software-properties (0.96.24.17) ...\n",
      "Setting up software-properties-common (0.96.24.17) ...\n",
      "Processing triggers for libc-bin (2.26-0ubuntu2.1) ...\n",
      "Processing triggers for dbus (1.10.22-1ubuntu1) ...\n",
      "gpg: keybox '/tmp/tmpuw48w615/pubring.gpg' created\n",
      "gpg: /tmp/tmpuw48w615/trustdb.gpg: trustdb created\n",
      "gpg: key AD5F235DF639B041: public key \"Launchpad PPA for Alessandro Strada\" imported\n",
      "gpg: Total number processed: 1\n",
      "gpg:               imported: 1\n",
      "Warning: apt-key output should not be parsed (stdout is not a terminal)\n",
      "Selecting previously unselected package libfuse2:amd64.\n",
      "(Reading database ... 19999 files and directories currently installed.)\n",
      "Preparing to unpack .../libfuse2_2.9.7-1ubuntu1_amd64.deb ...\n",
      "Unpacking libfuse2:amd64 (2.9.7-1ubuntu1) ...\n",
      "Selecting previously unselected package fuse.\n",
      "Preparing to unpack .../fuse_2.9.7-1ubuntu1_amd64.deb ...\n",
      "Unpacking fuse (2.9.7-1ubuntu1) ...\n",
      "Selecting previously unselected package google-drive-ocamlfuse.\n",
      "Preparing to unpack .../google-drive-ocamlfuse_0.6.21-0ubuntu2_amd64.deb ...\n",
      "Unpacking google-drive-ocamlfuse (0.6.21-0ubuntu2) ...\n",
      "Setting up libfuse2:amd64 (2.9.7-1ubuntu1) ...\n",
      "Processing triggers for libc-bin (2.26-0ubuntu2.1) ...\n",
      "Setting up fuse (2.9.7-1ubuntu1) ...\n",
      "Setting up google-drive-ocamlfuse (0.6.21-0ubuntu2) ...\n"
     ]
    }
   ],
   "source": [
    "# Install a Drive FUSE wrapper.\n",
    "# https://github.com/astrada/google-drive-ocamlfuse\n",
    "!apt-get install -y -qq software-properties-common python-software-properties module-init-tools\n",
    "!add-apt-repository -y ppa:alessandro-strada/ppa 2>&1 > /dev/null\n",
    "!apt-get update -qq 2>&1 > /dev/null\n",
    "!apt-get -y install -qq google-drive-ocamlfuse fuse"
   ]
  },
  {
   "cell_type": "code",
   "execution_count": 0,
   "metadata": {
    "colab": {
     "autoexec": {
      "startup": false,
      "wait_interval": 0
     }
    },
    "colab_type": "code",
    "id": "Qqta3nC0mHS4"
   },
   "outputs": [],
   "source": [
    "# Generate auth tokens for Colab\n",
    "from google.colab import auth\n",
    "auth.authenticate_user()"
   ]
  },
  {
   "cell_type": "code",
   "execution_count": 7,
   "metadata": {
    "colab": {
     "autoexec": {
      "startup": false,
      "wait_interval": 0
     },
     "base_uri": "https://localhost:8080/",
     "height": 105
    },
    "colab_type": "code",
    "executionInfo": {
     "elapsed": 14645,
     "status": "ok",
     "timestamp": 1524751258919,
     "user": {
      "displayName": "澤田格",
      "photoUrl": "https://lh3.googleusercontent.com/a/default-user=s128",
      "userId": "108006320976410388579"
     },
     "user_tz": -540
    },
    "id": "G629iJwpmJkF",
    "outputId": "ad3d5996-b928-4338-c80f-139b3992ec9f"
   },
   "outputs": [
    {
     "name": "stdout",
     "output_type": "stream",
     "text": [
      "Please, open the following URL in a web browser: https://accounts.google.com/o/oauth2/auth?client_id=32555940559.apps.googleusercontent.com&redirect_uri=urn%3Aietf%3Awg%3Aoauth%3A2.0%3Aoob&scope=https%3A%2F%2Fwww.googleapis.com%2Fauth%2Fdrive&response_type=code&access_type=offline&approval_prompt=force\r\n",
      "··········\n",
      "Please, open the following URL in a web browser: https://accounts.google.com/o/oauth2/auth?client_id=32555940559.apps.googleusercontent.com&redirect_uri=urn%3Aietf%3Awg%3Aoauth%3A2.0%3Aoob&scope=https%3A%2F%2Fwww.googleapis.com%2Fauth%2Fdrive&response_type=code&access_type=offline&approval_prompt=force\n",
      "Please enter the verification code: Access token retrieved correctly.\n"
     ]
    }
   ],
   "source": [
    "# Generate creds for the Drive FUSE library.\n",
    "from oauth2client.client import GoogleCredentials\n",
    "creds = GoogleCredentials.get_application_default()\n",
    "import getpass\n",
    "!google-drive-ocamlfuse -headless -id={creds.client_id} -secret={creds.client_secret} < /dev/null 2>&1 | grep URL\n",
    "vcode = getpass.getpass()\n",
    "!echo {vcode} | google-drive-ocamlfuse -headless -id={creds.client_id} -secret={creds.client_secret}"
   ]
  },
  {
   "cell_type": "code",
   "execution_count": 0,
   "metadata": {
    "colab": {
     "autoexec": {
      "startup": false,
      "wait_interval": 0
     }
    },
    "colab_type": "code",
    "id": "pVwe9XMGmODe"
   },
   "outputs": [],
   "source": [
    "# Create a directory and mount Google Drive using that directory.\n",
    "!mkdir -p drive\n",
    "!google-drive-ocamlfuse drive"
   ]
  },
  {
   "cell_type": "code",
   "execution_count": 9,
   "metadata": {
    "colab": {
     "autoexec": {
      "startup": false,
      "wait_interval": 0
     },
     "base_uri": "https://localhost:8080/",
     "height": 612
    },
    "colab_type": "code",
    "executionInfo": {
     "elapsed": 36051,
     "status": "ok",
     "timestamp": 1524751297969,
     "user": {
      "displayName": "澤田格",
      "photoUrl": "https://lh3.googleusercontent.com/a/default-user=s128",
      "userId": "108006320976410388579"
     },
     "user_tz": -540
    },
    "id": "MTGBXc-hmR_w",
    "outputId": "6318e5c6-db52-4f86-e308-16851769f757"
   },
   "outputs": [
    {
     "name": "stdout",
     "output_type": "stream",
     "text": [
      "20161020 第一回演習問題.odt\r\n",
      "beamsearch\r\n",
      "\u001b[0m\u001b[01;34mColab Notebooks\u001b[0m/\r\n",
      "Figure1\r\n",
      "Figure2\r\n",
      "Figure3\r\n",
      "INEQUALITY AND CITY SIZE.pdf\r\n",
      "INEQUALITY AND CITY SIZE.pdf (3537f1fc)\r\n",
      "INEQUALITY AND CITY SIZE.pptx\r\n",
      "INEQUALITY AND CITY SIZE.pptx.pdf\r\n",
      "report03.rb\r\n",
      "report2_pro01.svg\r\n",
      "report2_pro02.html\r\n",
      "report2_pro03.svg\r\n",
      "report2__pro3.html\r\n",
      "report2_pro4.html\r\n",
      "report2_pro5.html\r\n",
      "ToDo.ods\r\n",
      "Untitled Diagram (03da730a).html\r\n",
      "Untitled Diagram (29fcf39a).html\r\n",
      "Untitled Diagram (55a762cb).html\r\n",
      "Untitled Diagram (bef4dbd0).html\r\n",
      "Untitled Diagram (f55a24a8).html\r\n",
      "Untitled Diagram.html\r\n",
      "市場構造と企業戦略　第1回.pdf\r\n",
      "市場構造と企業戦略　第2回.pdf\r\n",
      "市場構造と企業戦略　第3回.pdf\r\n",
      "市場構造と企業戦略　第4回.pdf\r\n",
      "市場構造と企業戦略　第6回.pdf\r\n",
      "成績表20159.pdf\r\n",
      "無題のスプレッドシート.ods\r\n",
      "経済統計学第0回　オリエンテーション.pdf\r\n",
      "経済統計学第2回　様々な統計指標(2)：不平等の指数（配布用）.pdf\r\n",
      "スペイン語塚原1.pdf\r\n",
      "課題管理表.ods\r\n"
     ]
    }
   ],
   "source": [
    "ls drive"
   ]
  },
  {
   "cell_type": "code",
   "execution_count": 10,
   "metadata": {
    "colab": {
     "autoexec": {
      "startup": false,
      "wait_interval": 0
     },
     "base_uri": "https://localhost:8080/",
     "height": 119
    },
    "colab_type": "code",
    "executionInfo": {
     "elapsed": 182906,
     "status": "ok",
     "timestamp": 1524751480909,
     "user": {
      "displayName": "澤田格",
      "photoUrl": "https://lh3.googleusercontent.com/a/default-user=s128",
      "userId": "108006320976410388579"
     },
     "user_tz": -540
    },
    "id": "8475SLeCmSCu",
    "outputId": "0c1ed01e-8c47-479c-a963-e6ef42c5692c"
   },
   "outputs": [
    {
     "name": "stdout",
     "output_type": "stream",
     "text": [
      "copying train1\n",
      "copying train2\n",
      "copying train2\n",
      "train files copied\n",
      "mkdir: cannot create directory ‘drive/Colab Notebooks/logs’: File exists\n",
      "mkdir: cannot create directory ‘drive/Colab Notebooks/logs/tb’: File exists\n"
     ]
    }
   ],
   "source": [
    "!mkdir data\n",
    "!mkdir data/train2\n",
    "!mkdir data/train2/train\n",
    "!mkdir data/train2/valid\n",
    "!mkdir data/train2/train/0\n",
    "!mkdir data/train2/train/1\n",
    "!mkdir data/train2/valid/0\n",
    "!mkdir data/train2/valid/1\n",
    "!mkdir preprocessing\n",
    "!touch __init__.py\n",
    "!touch preprocessing/__init__.py\n",
    "!cp drive/Colab\\ Notebooks/wide_resnet.py wide_resnet.py\n",
    "!cp drive/Colab\\ Notebooks/image_p.py preprocessing/image.py\n",
    "print('copying train1')\n",
    "!cp drive/Colab\\ Notebooks/data/train_1.zip data/train_1.zip\n",
    "print('copying train2')\n",
    "!cp drive/Colab\\ Notebooks/data/train_2.zip data/train_2.zip\n",
    "print('copying train2')\n",
    "!cp drive/Colab\\ Notebooks/data/train_3.zip data/train_3.zip\n",
    "print('train files copied')\n",
    "!cp drive/Colab\\ Notebooks/data/train_master.tsv data/train_master.tsv\n",
    "!mkdir drive/Colab\\ Notebooks/logs\n",
    "!mkdir drive/Colab\\ Notebooks/logs/tb"
   ]
  },
  {
   "cell_type": "code",
   "execution_count": 11,
   "metadata": {
    "colab": {
     "autoexec": {
      "startup": false,
      "wait_interval": 0
     },
     "base_uri": "https://localhost:8080/",
     "height": 68
    },
    "colab_type": "code",
    "executionInfo": {
     "elapsed": 199746,
     "status": "ok",
     "timestamp": 1524751680695,
     "user": {
      "displayName": "澤田格",
      "photoUrl": "https://lh3.googleusercontent.com/a/default-user=s128",
      "userId": "108006320976410388579"
     },
     "user_tz": -540
    },
    "id": "dsQ2E1ePmSHS",
    "outputId": "36d225fd-3e9d-4ee9-c1bb-d5aac4e757b4"
   },
   "outputs": [
    {
     "name": "stdout",
     "output_type": "stream",
     "text": [
      "train 1 unziped\n",
      "train 2 unziped\n",
      "train 3 unziped\n"
     ]
    }
   ],
   "source": [
    "!unzip -qo data/train_1.zip\n",
    "print('train 1 unziped')\n",
    "!unzip -qo data/train_2.zip\n",
    "print('train 2 unziped')\n",
    "!unzip -qo data/train_3.zip\n",
    "print('train 3 unziped')"
   ]
  },
  {
   "cell_type": "code",
   "execution_count": 12,
   "metadata": {
    "colab": {
     "autoexec": {
      "startup": false,
      "wait_interval": 0
     },
     "base_uri": "https://localhost:8080/",
     "height": 34
    },
    "colab_type": "code",
    "executionInfo": {
     "elapsed": 1679,
     "status": "ok",
     "timestamp": 1524751682434,
     "user": {
      "displayName": "澤田格",
      "photoUrl": "https://lh3.googleusercontent.com/a/default-user=s128",
      "userId": "108006320976410388579"
     },
     "user_tz": -540
    },
    "id": "xR-UUr_pmg5t",
    "outputId": "77ff41d6-62de-487f-8e3f-b95db92ecb17"
   },
   "outputs": [
    {
     "name": "stderr",
     "output_type": "stream",
     "text": [
      "Using TensorFlow backend.\n"
     ]
    }
   ],
   "source": [
    "import shutil\n",
    "import wide_resnet as wrn\n",
    "from preprocessing.image import ImageDataGenerator\n",
    "import pandas as pd\n",
    "import numpy as np\n",
    "import pathlib\n",
    "import os\n",
    "import datetime\n",
    "from tqdm import tqdm\n",
    "from sklearn.model_selection import train_test_split\n",
    "import cv2\n",
    "\n",
    "from sklearn.metrics import roc_auc_score\n",
    "import keras.callbacks as callbacks\n",
    "from keras.utils import plot_model\n",
    "from keras.optimizers import Adam\n",
    "from keras import backend as K\n",
    "import tensorflow as tf"
   ]
  },
  {
   "cell_type": "code",
   "execution_count": 0,
   "metadata": {
    "colab": {
     "autoexec": {
      "startup": false,
      "wait_interval": 0
     }
    },
    "colab_type": "code",
    "id": "J8_-JYXXmoxv"
   },
   "outputs": [],
   "source": [
    "DATA_DIR = pathlib.Path('./data/')\n",
    "LOG_DIR = pathlib.Path('drive/Colab Notebooks/logs')\n",
    "ROOT_DIR = pathlib.Path('./')"
   ]
  },
  {
   "cell_type": "code",
   "execution_count": 0,
   "metadata": {
    "colab": {
     "autoexec": {
      "startup": false,
      "wait_interval": 0
     }
    },
    "colab_type": "code",
    "id": "pbRb58Fwmo0e"
   },
   "outputs": [],
   "source": [
    "df = pd.read_csv(DATA_DIR.joinpath('train_master.tsv'), delimiter='\\t')"
   ]
  },
  {
   "cell_type": "code",
   "execution_count": 15,
   "metadata": {
    "colab": {
     "autoexec": {
      "startup": false,
      "wait_interval": 0
     },
     "base_uri": "https://localhost:8080/",
     "height": 68
    },
    "colab_type": "code",
    "executionInfo": {
     "elapsed": 524,
     "status": "ok",
     "timestamp": 1524751684641,
     "user": {
      "displayName": "澤田格",
      "photoUrl": "https://lh3.googleusercontent.com/a/default-user=s128",
      "userId": "108006320976410388579"
     },
     "user_tz": -540
    },
    "id": "gdJ16k9Vmo3Z",
    "outputId": "88ede0a2-d373-4ad1-889b-571ab29a2d21"
   },
   "outputs": [
    {
     "data": {
      "text/plain": [
       "0    283740\n",
       "1     12442\n",
       "Name: flag, dtype: int64"
      ]
     },
     "execution_count": 15,
     "metadata": {
      "tags": []
     },
     "output_type": "execute_result"
    }
   ],
   "source": [
    "df.flag.value_counts()"
   ]
  },
  {
   "cell_type": "code",
   "execution_count": 0,
   "metadata": {
    "colab": {
     "autoexec": {
      "startup": false,
      "wait_interval": 0
     }
    },
    "colab_type": "code",
    "id": "HcAfDvbTmv3S"
   },
   "outputs": [],
   "source": [
    "X = df.file_name.values\n",
    "y = df.flag.values"
   ]
  },
  {
   "cell_type": "code",
   "execution_count": 0,
   "metadata": {
    "colab": {
     "autoexec": {
      "startup": false,
      "wait_interval": 0
     }
    },
    "colab_type": "code",
    "id": "-ZMsyBz4mxJm"
   },
   "outputs": [],
   "source": [
    "X_train, X_valid, y_train, y_valid = train_test_split(X, y, test_size=.1, random_state=216, stratify=y)"
   ]
  },
  {
   "cell_type": "code",
   "execution_count": 21,
   "metadata": {
    "colab": {
     "autoexec": {
      "startup": false,
      "wait_interval": 0
     },
     "base_uri": "https://localhost:8080/",
     "height": 34
    },
    "colab_type": "code",
    "executionInfo": {
     "elapsed": 656243,
     "status": "ok",
     "timestamp": 1524674372216,
     "user": {
      "displayName": "澤田格",
      "photoUrl": "https://lh3.googleusercontent.com/a/default-user=s128",
      "userId": "108006320976410388579"
     },
     "user_tz": -540
    },
    "id": "guMm5WmEmy_G",
    "outputId": "e3d9207d-6d82-4fc7-926f-437624dfba37"
   },
   "outputs": [
    {
     "name": "stderr",
     "output_type": "stream",
     "text": [
      "266563it [10:55, 406.58it/s]\n"
     ]
    }
   ],
   "source": [
    "tar_dir = 'train'\n",
    "X_ = X_train\n",
    "y_ = y_train\n",
    "for file_name, flag in tqdm(zip(X_, y_)):\n",
    "    src = ROOT_DIR.joinpath('train').joinpath(file_name)\n",
    "    dst = DATA_DIR.joinpath('train2').joinpath(tar_dir).joinpath('0' if flag == 0 else '1').joinpath(file_name)\n",
    "    shutil.copyfile(src, dst)"
   ]
  },
  {
   "cell_type": "code",
   "execution_count": 18,
   "metadata": {
    "colab": {
     "autoexec": {
      "startup": false,
      "wait_interval": 0
     },
     "base_uri": "https://localhost:8080/",
     "height": 34
    },
    "colab_type": "code",
    "executionInfo": {
     "elapsed": 79513,
     "status": "ok",
     "timestamp": 1524751765675,
     "user": {
      "displayName": "澤田格",
      "photoUrl": "https://lh3.googleusercontent.com/a/default-user=s128",
      "userId": "108006320976410388579"
     },
     "user_tz": -540
    },
    "id": "giqJPSVnm2GD",
    "outputId": "67f573f4-fe48-41ef-f39d-999b46b44ed0"
   },
   "outputs": [
    {
     "name": "stderr",
     "output_type": "stream",
     "text": [
      "29619it [01:18, 375.20it/s]\n"
     ]
    }
   ],
   "source": [
    "tar_dir = 'valid'\n",
    "X_ = X_valid\n",
    "y_ = y_valid\n",
    "for file_name, flag in tqdm(zip(X_, y_)):\n",
    "    src = ROOT_DIR.joinpath('train').joinpath(file_name)\n",
    "    dst = DATA_DIR.joinpath('train2').joinpath(tar_dir).joinpath('0' if flag == 0 else '1').joinpath(file_name)\n",
    "    shutil.copyfile(src, dst)"
   ]
  },
  {
   "cell_type": "code",
   "execution_count": 29,
   "metadata": {
    "colab": {
     "autoexec": {
      "startup": false,
      "wait_interval": 0
     },
     "base_uri": "https://localhost:8080/",
     "height": 9404
    },
    "colab_type": "code",
    "executionInfo": {
     "elapsed": 32432913,
     "status": "ok",
     "timestamp": 1524709251250,
     "user": {
      "displayName": "澤田格",
      "photoUrl": "https://lh3.googleusercontent.com/a/default-user=s128",
      "userId": "108006320976410388579"
     },
     "user_tz": -540
    },
    "id": "ir4k5Q_Sm2I_",
    "outputId": "3b3b605c-dac5-4756-a57e-dc4b72c70076"
   },
   "outputs": [
    {
     "name": "stdout",
     "output_type": "stream",
     "text": [
      "Wide Residual Network-21-8 created.\n",
      "__________________________________________________________________________________________________\n",
      "Layer (type)                    Output Shape         Param #     Connected to                     \n",
      "==================================================================================================\n",
      "input_7 (InputLayer)            (None, 32, 32, 7)    0                                            \n",
      "__________________________________________________________________________________________________\n",
      "conv2d_133 (Conv2D)             (None, 32, 32, 16)   1024        input_7[0][0]                    \n",
      "__________________________________________________________________________________________________\n",
      "batch_normalization_115 (BatchN (None, 32, 32, 16)   64          conv2d_133[0][0]                 \n",
      "__________________________________________________________________________________________________\n",
      "activation_115 (Activation)     (None, 32, 32, 16)   0           batch_normalization_115[0][0]    \n",
      "__________________________________________________________________________________________________\n",
      "batch_normalization_116 (BatchN (None, 32, 32, 16)   64          activation_115[0][0]             \n",
      "__________________________________________________________________________________________________\n",
      "activation_116 (Activation)     (None, 32, 32, 16)   0           batch_normalization_116[0][0]    \n",
      "__________________________________________________________________________________________________\n",
      "conv2d_135 (Conv2D)             (None, 32, 32, 32)   544         activation_116[0][0]             \n",
      "__________________________________________________________________________________________________\n",
      "batch_normalization_117 (BatchN (None, 32, 32, 32)   128         conv2d_135[0][0]                 \n",
      "__________________________________________________________________________________________________\n",
      "activation_117 (Activation)     (None, 32, 32, 32)   0           batch_normalization_117[0][0]    \n",
      "__________________________________________________________________________________________________\n",
      "conv2d_136 (Conv2D)             (None, 32, 32, 32)   9248        activation_117[0][0]             \n",
      "__________________________________________________________________________________________________\n",
      "batch_normalization_118 (BatchN (None, 32, 32, 32)   128         conv2d_136[0][0]                 \n",
      "__________________________________________________________________________________________________\n",
      "activation_118 (Activation)     (None, 32, 32, 32)   0           batch_normalization_118[0][0]    \n",
      "__________________________________________________________________________________________________\n",
      "dropout_37 (Dropout)            (None, 32, 32, 32)   0           activation_118[0][0]             \n",
      "__________________________________________________________________________________________________\n",
      "conv2d_137 (Conv2D)             (None, 32, 32, 128)  4224        dropout_37[0][0]                 \n",
      "__________________________________________________________________________________________________\n",
      "conv2d_134 (Conv2D)             (None, 32, 32, 128)  2176        activation_115[0][0]             \n",
      "__________________________________________________________________________________________________\n",
      "add_37 (Add)                    (None, 32, 32, 128)  0           conv2d_137[0][0]                 \n",
      "                                                                 conv2d_134[0][0]                 \n",
      "__________________________________________________________________________________________________\n",
      "batch_normalization_119 (BatchN (None, 32, 32, 128)  512         add_37[0][0]                     \n",
      "__________________________________________________________________________________________________\n",
      "activation_119 (Activation)     (None, 32, 32, 128)  0           batch_normalization_119[0][0]    \n",
      "__________________________________________________________________________________________________\n",
      "conv2d_138 (Conv2D)             (None, 32, 32, 32)   4128        activation_119[0][0]             \n",
      "__________________________________________________________________________________________________\n",
      "batch_normalization_120 (BatchN (None, 32, 32, 32)   128         conv2d_138[0][0]                 \n",
      "__________________________________________________________________________________________________\n",
      "activation_120 (Activation)     (None, 32, 32, 32)   0           batch_normalization_120[0][0]    \n",
      "__________________________________________________________________________________________________\n",
      "conv2d_139 (Conv2D)             (None, 32, 32, 32)   9248        activation_120[0][0]             \n",
      "__________________________________________________________________________________________________\n",
      "batch_normalization_121 (BatchN (None, 32, 32, 32)   128         conv2d_139[0][0]                 \n",
      "__________________________________________________________________________________________________\n",
      "activation_121 (Activation)     (None, 32, 32, 32)   0           batch_normalization_121[0][0]    \n",
      "__________________________________________________________________________________________________\n",
      "dropout_38 (Dropout)            (None, 32, 32, 32)   0           activation_121[0][0]             \n",
      "__________________________________________________________________________________________________\n",
      "conv2d_140 (Conv2D)             (None, 32, 32, 128)  4224        dropout_38[0][0]                 \n",
      "__________________________________________________________________________________________________\n",
      "add_38 (Add)                    (None, 32, 32, 128)  0           conv2d_140[0][0]                 \n",
      "                                                                 add_37[0][0]                     \n",
      "__________________________________________________________________________________________________\n",
      "batch_normalization_122 (BatchN (None, 32, 32, 128)  512         add_38[0][0]                     \n",
      "__________________________________________________________________________________________________\n",
      "activation_122 (Activation)     (None, 32, 32, 128)  0           batch_normalization_122[0][0]    \n",
      "__________________________________________________________________________________________________\n",
      "conv2d_142 (Conv2D)             (None, 32, 32, 64)   8256        activation_122[0][0]             \n",
      "__________________________________________________________________________________________________\n",
      "batch_normalization_123 (BatchN (None, 32, 32, 64)   256         conv2d_142[0][0]                 \n",
      "__________________________________________________________________________________________________\n",
      "activation_123 (Activation)     (None, 32, 32, 64)   0           batch_normalization_123[0][0]    \n",
      "__________________________________________________________________________________________________\n",
      "conv2d_143 (Conv2D)             (None, 16, 16, 64)   36928       activation_123[0][0]             \n",
      "__________________________________________________________________________________________________\n",
      "batch_normalization_124 (BatchN (None, 16, 16, 64)   256         conv2d_143[0][0]                 \n",
      "__________________________________________________________________________________________________\n",
      "activation_124 (Activation)     (None, 16, 16, 64)   0           batch_normalization_124[0][0]    \n",
      "__________________________________________________________________________________________________\n",
      "dropout_39 (Dropout)            (None, 16, 16, 64)   0           activation_124[0][0]             \n",
      "__________________________________________________________________________________________________\n",
      "conv2d_144 (Conv2D)             (None, 16, 16, 256)  16640       dropout_39[0][0]                 \n",
      "__________________________________________________________________________________________________\n",
      "conv2d_141 (Conv2D)             (None, 16, 16, 256)  33024       add_38[0][0]                     \n",
      "__________________________________________________________________________________________________\n",
      "add_39 (Add)                    (None, 16, 16, 256)  0           conv2d_144[0][0]                 \n",
      "                                                                 conv2d_141[0][0]                 \n",
      "__________________________________________________________________________________________________\n",
      "batch_normalization_125 (BatchN (None, 16, 16, 256)  1024        add_39[0][0]                     \n",
      "__________________________________________________________________________________________________\n",
      "activation_125 (Activation)     (None, 16, 16, 256)  0           batch_normalization_125[0][0]    \n",
      "__________________________________________________________________________________________________\n",
      "conv2d_145 (Conv2D)             (None, 16, 16, 64)   16448       activation_125[0][0]             \n",
      "__________________________________________________________________________________________________\n",
      "batch_normalization_126 (BatchN (None, 16, 16, 64)   256         conv2d_145[0][0]                 \n",
      "__________________________________________________________________________________________________\n",
      "activation_126 (Activation)     (None, 16, 16, 64)   0           batch_normalization_126[0][0]    \n",
      "__________________________________________________________________________________________________\n",
      "conv2d_146 (Conv2D)             (None, 16, 16, 64)   36928       activation_126[0][0]             \n",
      "__________________________________________________________________________________________________\n",
      "batch_normalization_127 (BatchN (None, 16, 16, 64)   256         conv2d_146[0][0]                 \n",
      "__________________________________________________________________________________________________\n",
      "activation_127 (Activation)     (None, 16, 16, 64)   0           batch_normalization_127[0][0]    \n",
      "__________________________________________________________________________________________________\n",
      "dropout_40 (Dropout)            (None, 16, 16, 64)   0           activation_127[0][0]             \n",
      "__________________________________________________________________________________________________\n",
      "conv2d_147 (Conv2D)             (None, 16, 16, 256)  16640       dropout_40[0][0]                 \n",
      "__________________________________________________________________________________________________\n",
      "add_40 (Add)                    (None, 16, 16, 256)  0           conv2d_147[0][0]                 \n",
      "                                                                 add_39[0][0]                     \n",
      "__________________________________________________________________________________________________\n",
      "batch_normalization_128 (BatchN (None, 16, 16, 256)  1024        add_40[0][0]                     \n",
      "__________________________________________________________________________________________________\n",
      "activation_128 (Activation)     (None, 16, 16, 256)  0           batch_normalization_128[0][0]    \n",
      "__________________________________________________________________________________________________\n",
      "conv2d_149 (Conv2D)             (None, 16, 16, 128)  32896       activation_128[0][0]             \n",
      "__________________________________________________________________________________________________\n",
      "batch_normalization_129 (BatchN (None, 16, 16, 128)  512         conv2d_149[0][0]                 \n",
      "__________________________________________________________________________________________________\n",
      "activation_129 (Activation)     (None, 16, 16, 128)  0           batch_normalization_129[0][0]    \n",
      "__________________________________________________________________________________________________\n",
      "conv2d_150 (Conv2D)             (None, 8, 8, 128)    147584      activation_129[0][0]             \n",
      "__________________________________________________________________________________________________\n",
      "batch_normalization_130 (BatchN (None, 8, 8, 128)    512         conv2d_150[0][0]                 \n",
      "__________________________________________________________________________________________________\n",
      "activation_130 (Activation)     (None, 8, 8, 128)    0           batch_normalization_130[0][0]    \n",
      "__________________________________________________________________________________________________\n",
      "dropout_41 (Dropout)            (None, 8, 8, 128)    0           activation_130[0][0]             \n",
      "__________________________________________________________________________________________________\n",
      "conv2d_151 (Conv2D)             (None, 8, 8, 512)    66048       dropout_41[0][0]                 \n",
      "__________________________________________________________________________________________________\n",
      "conv2d_148 (Conv2D)             (None, 8, 8, 512)    131584      add_40[0][0]                     \n",
      "__________________________________________________________________________________________________\n",
      "add_41 (Add)                    (None, 8, 8, 512)    0           conv2d_151[0][0]                 \n",
      "                                                                 conv2d_148[0][0]                 \n",
      "__________________________________________________________________________________________________\n",
      "batch_normalization_131 (BatchN (None, 8, 8, 512)    2048        add_41[0][0]                     \n",
      "__________________________________________________________________________________________________\n",
      "activation_131 (Activation)     (None, 8, 8, 512)    0           batch_normalization_131[0][0]    \n",
      "__________________________________________________________________________________________________\n",
      "conv2d_152 (Conv2D)             (None, 8, 8, 128)    65664       activation_131[0][0]             \n",
      "__________________________________________________________________________________________________\n",
      "batch_normalization_132 (BatchN (None, 8, 8, 128)    512         conv2d_152[0][0]                 \n",
      "__________________________________________________________________________________________________\n",
      "activation_132 (Activation)     (None, 8, 8, 128)    0           batch_normalization_132[0][0]    \n",
      "__________________________________________________________________________________________________\n",
      "conv2d_153 (Conv2D)             (None, 8, 8, 128)    147584      activation_132[0][0]             \n",
      "__________________________________________________________________________________________________\n",
      "batch_normalization_133 (BatchN (None, 8, 8, 128)    512         conv2d_153[0][0]                 \n",
      "__________________________________________________________________________________________________\n",
      "activation_133 (Activation)     (None, 8, 8, 128)    0           batch_normalization_133[0][0]    \n",
      "__________________________________________________________________________________________________\n",
      "dropout_42 (Dropout)            (None, 8, 8, 128)    0           activation_133[0][0]             \n",
      "__________________________________________________________________________________________________\n",
      "conv2d_154 (Conv2D)             (None, 8, 8, 512)    66048       dropout_42[0][0]                 \n",
      "__________________________________________________________________________________________________\n",
      "add_42 (Add)                    (None, 8, 8, 512)    0           conv2d_154[0][0]                 \n",
      "                                                                 add_41[0][0]                     \n",
      "__________________________________________________________________________________________________\n",
      "average_pooling2d_7 (AveragePoo (None, 1, 1, 512)    0           add_42[0][0]                     \n",
      "__________________________________________________________________________________________________\n",
      "flatten_7 (Flatten)             (None, 512)          0           average_pooling2d_7[0][0]        \n",
      "__________________________________________________________________________________________________\n",
      "dense_7 (Dense)                 (None, 1)            513         flatten_7[0][0]                  \n",
      "==================================================================================================\n",
      "Total params: 866,433\n",
      "Trainable params: 862,017\n",
      "Non-trainable params: 4,416\n",
      "__________________________________________________________________________________________________\n",
      "Finished compiling\n",
      "Found 266563 images belonging to 2 classes.\n",
      "Found 29619 images belonging to 2 classes.\n",
      "Epoch 1/90\n"
     ]
    },
    {
     "name": "stderr",
     "output_type": "stream",
     "text": [
      "/usr/local/lib/python3.6/dist-packages/ipykernel_launcher.py:73: RuntimeWarning: invalid value encountered in floor_divide\n"
     ]
    },
    {
     "name": "stdout",
     "output_type": "stream",
     "text": [
      "177/177 [==============================] - 373s 2s/step - loss: 0.1404 - acc: 0.9586 - auc: 0.8668 - val_loss: 0.1023 - val_acc: 0.9688 - val_auc: 0.9190\n",
      "\n",
      "Epoch 00001: val_auc improved from -inf to 0.91895, saving model to drive/Colab Notebooks/logs/0426/weight01-0.91895.h5\n",
      "Epoch 2/90\n",
      "177/177 [==============================] - 355s 2s/step - loss: 0.1043 - acc: 0.9679 - auc: 0.9224 - val_loss: 0.1013 - val_acc: 0.9691 - val_auc: 0.9290\n",
      "\n",
      "Epoch 00002: val_auc improved from 0.91895 to 0.92897, saving model to drive/Colab Notebooks/logs/0426/weight02-0.92897.h5\n",
      "Epoch 3/90\n",
      " 20/177 [==>...........................] - ETA: 3:18 - loss: 0.0915 - acc: 0.9712 - auc: 0.9374177/177 [==============================] - 338s 2s/step - loss: 0.0975 - acc: 0.9695 - auc: 0.9320 - val_loss: 0.1397 - val_acc: 0.9505 - val_auc: 0.9362\n",
      "\n",
      "Epoch 00003: val_auc improved from 0.92897 to 0.93623, saving model to drive/Colab Notebooks/logs/0426/weight03-0.93623.h5\n",
      "Epoch 4/90\n",
      "177/177 [==============================] - 371s 2s/step - loss: 0.0946 - acc: 0.9706 - auc: 0.9353 - val_loss: 0.1160 - val_acc: 0.9603 - val_auc: 0.9335\n",
      "\n",
      "Epoch 00004: val_auc did not improve\n",
      "Epoch 5/90\n",
      " 27/177 [===>..........................] - ETA: 3:24 - loss: 0.0941 - acc: 0.9708 - auc: 0.9368177/177 [==============================] - 357s 2s/step - loss: 0.0944 - acc: 0.9703 - auc: 0.9394 - val_loss: 0.1693 - val_acc: 0.9417 - val_auc: 0.9406\n",
      "\n",
      "Epoch 00005: val_auc improved from 0.93623 to 0.94059, saving model to drive/Colab Notebooks/logs/0426/weight05-0.94059.h5\n",
      "Epoch 6/90\n",
      "177/177 [==============================] - 346s 2s/step - loss: 0.0917 - acc: 0.9711 - auc: 0.9415 - val_loss: 0.0874 - val_acc: 0.9741 - val_auc: 0.9470\n",
      "\n",
      "Epoch 00006: val_auc improved from 0.94059 to 0.94698, saving model to drive/Colab Notebooks/logs/0426/weight06-0.94698.h5\n",
      "Epoch 7/90\n",
      " 22/177 [==>...........................] - ETA: 4:18 - loss: 0.0855 - acc: 0.9731 - auc: 0.9451177/177 [==============================] - 365s 2s/step - loss: 0.0897 - acc: 0.9716 - auc: 0.9432 - val_loss: 0.0890 - val_acc: 0.9712 - val_auc: 0.9443\n",
      "\n",
      "Epoch 00007: val_auc did not improve\n",
      "Epoch 8/90\n",
      "177/177 [==============================] - 356s 2s/step - loss: 0.0904 - acc: 0.9714 - auc: 0.9429 - val_loss: 0.1051 - val_acc: 0.9652 - val_auc: 0.9442\n",
      "\n",
      "Epoch 00008: val_auc did not improve\n",
      "Epoch 9/90\n",
      " 63/177 [=========>....................] - ETA: 3:06 - loss: 0.0912 - acc: 0.9712 - auc: 0.9423177/177 [==============================] - 356s 2s/step - loss: 0.0910 - acc: 0.9710 - auc: 0.9449 - val_loss: 0.0905 - val_acc: 0.9722 - val_auc: 0.9434\n",
      "\n",
      "Epoch 00009: val_auc did not improve\n",
      "Epoch 10/90\n",
      "177/177 [==============================] - 362s 2s/step - loss: 0.0887 - acc: 0.9722 - auc: 0.9468 - val_loss: 0.1200 - val_acc: 0.9583 - val_auc: 0.9510\n",
      "\n",
      "Epoch 00010: val_auc improved from 0.94698 to 0.95100, saving model to drive/Colab Notebooks/logs/0426/weight10-0.95100.h5\n",
      "Epoch 11/90\n",
      " 58/177 [========>.....................] - ETA: 3:11 - loss: 0.0906 - acc: 0.9717 - auc: 0.9409177/177 [==============================] - 357s 2s/step - loss: 0.0867 - acc: 0.9727 - auc: 0.9464 - val_loss: 0.0817 - val_acc: 0.9742 - val_auc: 0.9484\n",
      "\n",
      "Epoch 00011: val_auc did not improve\n",
      "Epoch 12/90\n",
      "177/177 [==============================] - 356s 2s/step - loss: 0.0885 - acc: 0.9716 - auc: 0.9490 - val_loss: 0.1160 - val_acc: 0.9624 - val_auc: 0.9499\n",
      "\n",
      "Epoch 00012: val_auc did not improve\n",
      "Epoch 13/90\n",
      " 68/177 [==========>...................] - ETA: 3:04 - loss: 0.0886 - acc: 0.9714 - auc: 0.9461177/177 [==============================] - 359s 2s/step - loss: 0.0872 - acc: 0.9723 - auc: 0.9466 - val_loss: 0.0803 - val_acc: 0.9757 - val_auc: 0.9473\n",
      "\n",
      "Epoch 00013: val_auc did not improve\n",
      "Epoch 14/90\n",
      "177/177 [==============================] - 358s 2s/step - loss: 0.0877 - acc: 0.9718 - auc: 0.9474 - val_loss: 0.1114 - val_acc: 0.9618 - val_auc: 0.9420\n",
      "\n",
      "Epoch 00014: val_auc did not improve\n",
      "Epoch 15/90\n",
      " 71/177 [===========>..................] - ETA: 2:53 - loss: 0.0837 - acc: 0.9727 - auc: 0.9381177/177 [==============================] - 354s 2s/step - loss: 0.0854 - acc: 0.9722 - auc: 0.9458 - val_loss: 0.0927 - val_acc: 0.9704 - val_auc: 0.9475\n",
      "\n",
      "Epoch 00015: val_auc did not improve\n",
      "Epoch 16/90\n",
      "177/177 [==============================] - 357s 2s/step - loss: 0.0846 - acc: 0.9727 - auc: 0.9523 - val_loss: 0.0894 - val_acc: 0.9720 - val_auc: 0.9541\n",
      "\n",
      "Epoch 00016: val_auc improved from 0.95100 to 0.95413, saving model to drive/Colab Notebooks/logs/0426/weight16-0.95413.h5\n",
      "Epoch 17/90\n",
      " 60/177 [=========>....................] - ETA: 3:13 - loss: 0.0835 - acc: 0.9735 - auc: 0.9477177/177 [==============================] - 356s 2s/step - loss: 0.0849 - acc: 0.9729 - auc: 0.9488 - val_loss: 0.1066 - val_acc: 0.9648 - val_auc: 0.9478\n",
      "\n",
      "Epoch 00017: val_auc did not improve\n",
      "Epoch 18/90\n",
      "177/177 [==============================] - 356s 2s/step - loss: 0.0850 - acc: 0.9728 - auc: 0.9498 - val_loss: 0.1593 - val_acc: 0.9462 - val_auc: 0.9347\n",
      "\n",
      "Epoch 00018: val_auc did not improve\n",
      "Epoch 19/90\n",
      " 69/177 [==========>...................] - ETA: 3:00 - loss: 0.0840 - acc: 0.9736 - auc: 0.9488177/177 [==============================] - 358s 2s/step - loss: 0.0851 - acc: 0.9727 - auc: 0.9495 - val_loss: 0.0887 - val_acc: 0.9723 - val_auc: 0.9503\n",
      "\n",
      "Epoch 00019: val_auc did not improve\n",
      "Epoch 20/90\n",
      "177/177 [==============================] - 356s 2s/step - loss: 0.0865 - acc: 0.9718 - auc: 0.9465 - val_loss: 0.0945 - val_acc: 0.9691 - val_auc: 0.9564\n",
      "\n",
      "Epoch 00020: val_auc improved from 0.95413 to 0.95640, saving model to drive/Colab Notebooks/logs/0426/weight20-0.95640.h5\n",
      "Epoch 21/90\n",
      " 59/177 [=========>....................] - ETA: 3:07 - loss: 0.0837 - acc: 0.9743 - auc: 0.9502177/177 [==============================] - 356s 2s/step - loss: 0.0830 - acc: 0.9736 - auc: 0.9512 - val_loss: 0.1036 - val_acc: 0.9654 - val_auc: 0.9536\n",
      "\n",
      "Epoch 00021: val_auc did not improve\n",
      "Epoch 22/90\n",
      "177/177 [==============================] - 358s 2s/step - loss: 0.0842 - acc: 0.9724 - auc: 0.9534 - val_loss: 0.1206 - val_acc: 0.9595 - val_auc: 0.9499\n",
      "\n",
      "Epoch 00022: val_auc did not improve\n",
      "Epoch 23/90\n",
      " 69/177 [==========>...................] - ETA: 3:01 - loss: 0.0837 - acc: 0.9730 - auc: 0.9516177/177 [==============================] - 356s 2s/step - loss: 0.0820 - acc: 0.9736 - auc: 0.9532 - val_loss: 0.1511 - val_acc: 0.9491 - val_auc: 0.9439\n",
      "\n",
      "Epoch 00023: val_auc did not improve\n",
      "Epoch 24/90\n",
      "177/177 [==============================] - 353s 2s/step - loss: 0.0846 - acc: 0.9730 - auc: 0.9506 - val_loss: 0.1944 - val_acc: 0.9359 - val_auc: 0.9420\n",
      "\n",
      "Epoch 00024: val_auc did not improve\n",
      "Epoch 25/90\n",
      " 71/177 [===========>..................] - ETA: 2:56 - loss: 0.0864 - acc: 0.9722 - auc: 0.9525177/177 [==============================] - 353s 2s/step - loss: 0.0837 - acc: 0.9727 - auc: 0.9546 - val_loss: 0.1310 - val_acc: 0.9557 - val_auc: 0.9510\n",
      "\n",
      "Epoch 00025: val_auc did not improve\n",
      "Epoch 26/90\n",
      "177/177 [==============================] - 356s 2s/step - loss: 0.0818 - acc: 0.9732 - auc: 0.9541 - val_loss: 0.1039 - val_acc: 0.9658 - val_auc: 0.9519\n",
      "\n",
      "Epoch 00026: val_auc did not improve\n",
      "\n",
      "Epoch 00026: ReduceLROnPlateau reducing learning rate to 0.0003000000142492354.\n",
      "Epoch 27/90\n",
      " 61/177 [=========>....................] - ETA: 3:04 - loss: 0.0822 - acc: 0.9742 - auc: 0.9516177/177 [==============================] - 353s 2s/step - loss: 0.0805 - acc: 0.9742 - auc: 0.9546 - val_loss: 0.1105 - val_acc: 0.9643 - val_auc: 0.9511\n",
      "\n",
      "Epoch 00027: val_auc did not improve\n",
      "Epoch 28/90\n",
      "177/177 [==============================] - 360s 2s/step - loss: 0.0807 - acc: 0.9741 - auc: 0.9537 - val_loss: 0.0823 - val_acc: 0.9739 - val_auc: 0.9549\n",
      "\n",
      "Epoch 00028: val_auc did not improve\n",
      "Epoch 29/90\n",
      " 69/177 [==========>...................] - ETA: 3:01 - loss: 0.0789 - acc: 0.9737 - auc: 0.9584177/177 [==============================] - 356s 2s/step - loss: 0.0810 - acc: 0.9732 - auc: 0.9573 - val_loss: 0.0993 - val_acc: 0.9664 - val_auc: 0.9562\n",
      "\n",
      "Epoch 00029: val_auc did not improve\n",
      "Epoch 30/90\n",
      "177/177 [==============================] - 358s 2s/step - loss: 0.0780 - acc: 0.9753 - auc: 0.9569 - val_loss: 0.1007 - val_acc: 0.9667 - val_auc: 0.9551\n",
      "\n",
      "Epoch 00030: val_auc did not improve\n",
      "Epoch 31/90\n"
     ]
    },
    {
     "name": "stdout",
     "output_type": "stream",
     "text": [
      " 71/177 [===========>..................] - ETA: 3:02 - loss: 0.0844 - acc: 0.9720 - auc: 0.9540177/177 [==============================] - 360s 2s/step - loss: 0.0822 - acc: 0.9732 - auc: 0.9558 - val_loss: 0.1002 - val_acc: 0.9657 - val_auc: 0.9525\n",
      "\n",
      "Epoch 00031: val_auc did not improve\n",
      "\n",
      "Epoch 00031: ReduceLROnPlateau reducing learning rate to 9.000000427477062e-05.\n",
      "Epoch 32/90\n",
      "177/177 [==============================] - 358s 2s/step - loss: 0.0792 - acc: 0.9741 - auc: 0.9569 - val_loss: 0.0833 - val_acc: 0.9738 - val_auc: 0.9564\n",
      "\n",
      "Epoch 00032: val_auc did not improve\n",
      "Epoch 33/90\n",
      " 36/177 [=====>........................] - ETA: 3:22 - loss: 0.0768 - acc: 0.9751 - auc: 0.9618177/177 [==============================] - 357s 2s/step - loss: 0.0778 - acc: 0.9748 - auc: 0.9582 - val_loss: 0.0869 - val_acc: 0.9719 - val_auc: 0.9604\n",
      "\n",
      "Epoch 00033: val_auc improved from 0.95640 to 0.96041, saving model to drive/Colab Notebooks/logs/0426/weight33-0.96041.h5\n",
      "Epoch 34/90\n",
      "177/177 [==============================] - 357s 2s/step - loss: 0.0776 - acc: 0.9748 - auc: 0.9571 - val_loss: 0.0820 - val_acc: 0.9737 - val_auc: 0.9583\n",
      "\n",
      "Epoch 00034: val_auc did not improve\n",
      "Epoch 35/90\n",
      " 28/177 [===>..........................] - ETA: 3:42 - loss: 0.0777 - acc: 0.9740 - auc: 0.9609177/177 [==============================] - 359s 2s/step - loss: 0.0773 - acc: 0.9743 - auc: 0.9601 - val_loss: 0.1169 - val_acc: 0.9583 - val_auc: 0.9550\n",
      "\n",
      "Epoch 00035: val_auc did not improve\n",
      "Epoch 36/90\n",
      "177/177 [==============================] - 359s 2s/step - loss: 0.0788 - acc: 0.9745 - auc: 0.9576 - val_loss: 0.0923 - val_acc: 0.9691 - val_auc: 0.9608\n",
      "\n",
      "Epoch 00036: val_auc improved from 0.96041 to 0.96078, saving model to drive/Colab Notebooks/logs/0426/weight36-0.96078.h5\n",
      "Epoch 37/90\n",
      " 53/177 [=======>......................] - ETA: 3:25 - loss: 0.0776 - acc: 0.9748 - auc: 0.9571177/177 [==============================] - 357s 2s/step - loss: 0.0790 - acc: 0.9743 - auc: 0.9579 - val_loss: 0.1004 - val_acc: 0.9649 - val_auc: 0.9569\n",
      "\n",
      "Epoch 00037: val_auc did not improve\n",
      "Epoch 38/90\n",
      "177/177 [==============================] - 358s 2s/step - loss: 0.0800 - acc: 0.9739 - auc: 0.9583 - val_loss: 0.1078 - val_acc: 0.9635 - val_auc: 0.9581\n",
      "\n",
      "Epoch 00038: val_auc did not improve\n",
      "Epoch 39/90\n",
      " 67/177 [==========>...................] - ETA: 3:00 - loss: 0.0755 - acc: 0.9758 - auc: 0.9602177/177 [==============================] - 358s 2s/step - loss: 0.0766 - acc: 0.9754 - auc: 0.9586 - val_loss: 0.0998 - val_acc: 0.9658 - val_auc: 0.9588\n",
      "\n",
      "Epoch 00039: val_auc did not improve\n",
      "Epoch 40/90\n",
      "177/177 [==============================] - 358s 2s/step - loss: 0.0748 - acc: 0.9761 - auc: 0.9594 - val_loss: 0.0911 - val_acc: 0.9703 - val_auc: 0.9600\n",
      "\n",
      "Epoch 00040: val_auc did not improve\n",
      "Epoch 41/90\n",
      " 70/177 [==========>...................] - ETA: 2:57 - loss: 0.0773 - acc: 0.9751 - auc: 0.9571177/177 [==============================] - 355s 2s/step - loss: 0.0800 - acc: 0.9742 - auc: 0.9568 - val_loss: 0.0860 - val_acc: 0.9716 - val_auc: 0.9608\n",
      "\n",
      "Epoch 00041: val_auc improved from 0.96078 to 0.96084, saving model to drive/Colab Notebooks/logs/0426/weight41-0.96084.h5\n",
      "Epoch 42/90\n",
      "177/177 [==============================] - 357s 2s/step - loss: 0.0775 - acc: 0.9749 - auc: 0.9579 - val_loss: 0.0997 - val_acc: 0.9661 - val_auc: 0.9595\n",
      "\n",
      "Epoch 00042: val_auc did not improve\n",
      "\n",
      "Epoch 00042: ReduceLROnPlateau reducing learning rate to 2.700000040931627e-05.\n",
      "Epoch 43/90\n",
      " 29/177 [===>..........................] - ETA: 3:35 - loss: 0.0841 - acc: 0.9732 - auc: 0.9587177/177 [==============================] - 356s 2s/step - loss: 0.0779 - acc: 0.9748 - auc: 0.9603 - val_loss: 0.0843 - val_acc: 0.9715 - val_auc: 0.9602\n",
      "\n",
      "Epoch 00043: val_auc did not improve\n",
      "Epoch 44/90\n",
      "177/177 [==============================] - 357s 2s/step - loss: 0.0772 - acc: 0.9749 - auc: 0.9586 - val_loss: 0.0963 - val_acc: 0.9674 - val_auc: 0.9602\n",
      "\n",
      "Epoch 00044: val_auc did not improve\n",
      "Epoch 45/90\n",
      " 62/177 [=========>....................] - ETA: 3:10 - loss: 0.0798 - acc: 0.9740 - auc: 0.9589177/177 [==============================] - 359s 2s/step - loss: 0.0779 - acc: 0.9742 - auc: 0.9587 - val_loss: 0.1197 - val_acc: 0.9584 - val_auc: 0.9585\n",
      "\n",
      "Epoch 00045: val_auc did not improve\n",
      "Epoch 46/90\n",
      "177/177 [==============================] - 358s 2s/step - loss: 0.0738 - acc: 0.9762 - auc: 0.9628 - val_loss: 0.1148 - val_acc: 0.9608 - val_auc: 0.9586\n",
      "\n",
      "Epoch 00046: val_auc did not improve\n",
      "Epoch 47/90\n",
      " 69/177 [==========>...................] - ETA: 3:01 - loss: 0.0763 - acc: 0.9749 - auc: 0.9610177/177 [==============================] - 357s 2s/step - loss: 0.0750 - acc: 0.9758 - auc: 0.9598 - val_loss: 0.0946 - val_acc: 0.9672 - val_auc: 0.9597\n",
      "\n",
      "Epoch 00047: val_auc did not improve\n",
      "\n",
      "Epoch 00047: ReduceLROnPlateau reducing learning rate to 8.100000013655517e-06.\n",
      "Epoch 48/90\n",
      "177/177 [==============================] - 358s 2s/step - loss: 0.0781 - acc: 0.9746 - auc: 0.9579 - val_loss: 0.0962 - val_acc: 0.9674 - val_auc: 0.9600\n",
      "\n",
      "Epoch 00048: val_auc did not improve\n",
      "Epoch 49/90\n",
      " 35/177 [====>.........................] - ETA: 3:27 - loss: 0.0785 - acc: 0.9738 - auc: 0.9560177/177 [==============================] - 359s 2s/step - loss: 0.0765 - acc: 0.9748 - auc: 0.9591 - val_loss: 0.0988 - val_acc: 0.9666 - val_auc: 0.9603\n",
      "\n",
      "Epoch 00049: val_auc did not improve\n",
      "Epoch 50/90\n",
      "177/177 [==============================] - 359s 2s/step - loss: 0.0755 - acc: 0.9757 - auc: 0.9598 - val_loss: 0.1026 - val_acc: 0.9653 - val_auc: 0.9592\n",
      "\n",
      "Epoch 00050: val_auc did not improve\n",
      "Epoch 51/90\n",
      " 64/177 [=========>....................] - ETA: 3:10 - loss: 0.0786 - acc: 0.9747 - auc: 0.9594177/177 [==============================] - 358s 2s/step - loss: 0.0783 - acc: 0.9747 - auc: 0.9582 - val_loss: 0.1068 - val_acc: 0.9631 - val_auc: 0.9603\n",
      "\n",
      "Epoch 00051: val_auc did not improve\n",
      "Epoch 52/90\n",
      "177/177 [==============================] - 360s 2s/step - loss: 0.0764 - acc: 0.9754 - auc: 0.9587 - val_loss: 0.0996 - val_acc: 0.9663 - val_auc: 0.9606\n",
      "\n",
      "Epoch 00052: val_auc did not improve\n",
      "\n",
      "Epoch 00052: ReduceLROnPlateau reducing learning rate to 2.429999949526973e-06.\n",
      "Epoch 53/90\n",
      " 59/177 [=========>....................] - ETA: 3:11 - loss: 0.0773 - acc: 0.9750 - auc: 0.9588177/177 [==============================] - 359s 2s/step - loss: 0.0760 - acc: 0.9756 - auc: 0.9599 - val_loss: 0.0847 - val_acc: 0.9717 - val_auc: 0.9616\n",
      "\n",
      "Epoch 00053: val_auc improved from 0.96084 to 0.96156, saving model to drive/Colab Notebooks/logs/0426/weight53-0.96156.h5\n",
      "Epoch 54/90\n",
      "177/177 [==============================] - 356s 2s/step - loss: 0.0771 - acc: 0.9750 - auc: 0.9572 - val_loss: 0.0921 - val_acc: 0.9685 - val_auc: 0.9600\n",
      "\n",
      "Epoch 00054: val_auc did not improve\n",
      "Epoch 55/90\n",
      " 32/177 [====>.........................] - ETA: 3:39 - loss: 0.0762 - acc: 0.9746 - auc: 0.9601177/177 [==============================] - 355s 2s/step - loss: 0.0780 - acc: 0.9745 - auc: 0.9582 - val_loss: 0.0986 - val_acc: 0.9667 - val_auc: 0.9607\n",
      "\n",
      "Epoch 00055: val_auc did not improve\n",
      "Epoch 56/90\n",
      "177/177 [==============================] - 361s 2s/step - loss: 0.0771 - acc: 0.9752 - auc: 0.9596 - val_loss: 0.0853 - val_acc: 0.9709 - val_auc: 0.9606\n",
      "\n",
      "Epoch 00056: val_auc did not improve\n",
      "Epoch 57/90\n",
      " 63/177 [=========>....................] - ETA: 3:07 - loss: 0.0738 - acc: 0.9766 - auc: 0.9597177/177 [==============================] - 362s 2s/step - loss: 0.0770 - acc: 0.9753 - auc: 0.9576 - val_loss: 0.0861 - val_acc: 0.9712 - val_auc: 0.9617\n",
      "\n",
      "Epoch 00057: val_auc improved from 0.96156 to 0.96172, saving model to drive/Colab Notebooks/logs/0426/weight57-0.96172.h5\n",
      "Epoch 58/90\n",
      "177/177 [==============================] - 359s 2s/step - loss: 0.0779 - acc: 0.9749 - auc: 0.9573 - val_loss: 0.0992 - val_acc: 0.9666 - val_auc: 0.9602\n",
      "\n",
      "Epoch 00058: val_auc did not improve\n",
      "Epoch 59/90\n",
      " 33/177 [====>.........................] - ETA: 3:38 - loss: 0.0764 - acc: 0.9753 - auc: 0.9624177/177 [==============================] - 362s 2s/step - loss: 0.0767 - acc: 0.9751 - auc: 0.9608 - val_loss: 0.0828 - val_acc: 0.9722 - val_auc: 0.9618\n",
      "\n",
      "Epoch 00059: val_auc improved from 0.96172 to 0.96185, saving model to drive/Colab Notebooks/logs/0426/weight59-0.96185.h5\n",
      "Epoch 60/90\n",
      "177/177 [==============================] - 361s 2s/step - loss: 0.0770 - acc: 0.9749 - auc: 0.9590 - val_loss: 0.1078 - val_acc: 0.9632 - val_auc: 0.9595\n",
      "\n",
      "Epoch 00060: val_auc did not improve\n",
      "Epoch 61/90\n"
     ]
    },
    {
     "name": "stdout",
     "output_type": "stream",
     "text": [
      " 27/177 [===>..........................] - ETA: 3:27 - loss: 0.0745 - acc: 0.9755 - auc: 0.9640177/177 [==============================] - 361s 2s/step - loss: 0.0771 - acc: 0.9751 - auc: 0.9592 - val_loss: 0.1024 - val_acc: 0.9658 - val_auc: 0.9595\n",
      "\n",
      "Epoch 00061: val_auc did not improve\n",
      "Epoch 62/90\n",
      "177/177 [==============================] - 361s 2s/step - loss: 0.0774 - acc: 0.9751 - auc: 0.9585 - val_loss: 0.0922 - val_acc: 0.9683 - val_auc: 0.9603\n",
      "\n",
      "Epoch 00062: val_auc did not improve\n",
      "Epoch 63/90\n",
      " 63/177 [=========>....................] - ETA: 3:06 - loss: 0.0802 - acc: 0.9738 - auc: 0.9576177/177 [==============================] - 358s 2s/step - loss: 0.0779 - acc: 0.9746 - auc: 0.9576 - val_loss: 0.0853 - val_acc: 0.9714 - val_auc: 0.9617\n",
      "\n",
      "Epoch 00063: val_auc did not improve\n",
      "Epoch 64/90\n",
      "177/177 [==============================] - 359s 2s/step - loss: 0.0754 - acc: 0.9761 - auc: 0.9579 - val_loss: 0.1002 - val_acc: 0.9648 - val_auc: 0.9605\n",
      "\n",
      "Epoch 00064: val_auc did not improve\n",
      "Epoch 65/90\n",
      " 69/177 [==========>...................] - ETA: 3:01 - loss: 0.0760 - acc: 0.9752 - auc: 0.9591177/177 [==============================] - 358s 2s/step - loss: 0.0754 - acc: 0.9753 - auc: 0.9590 - val_loss: 0.0839 - val_acc: 0.9714 - val_auc: 0.9603\n",
      "\n",
      "Epoch 00065: val_auc did not improve\n",
      "\n",
      "Epoch 00065: ReduceLROnPlateau reducing learning rate to 7.289999985005124e-07.\n",
      "Epoch 66/90\n",
      "177/177 [==============================] - 357s 2s/step - loss: 0.0792 - acc: 0.9739 - auc: 0.9584 - val_loss: 0.0927 - val_acc: 0.9679 - val_auc: 0.9594\n",
      "\n",
      "Epoch 00066: val_auc did not improve\n",
      "Epoch 67/90\n",
      " 36/177 [=====>........................] - ETA: 3:20 - loss: 0.0743 - acc: 0.9758 - auc: 0.9366177/177 [==============================] - 354s 2s/step - loss: 0.0765 - acc: 0.9755 - auc: 0.9537 - val_loss: 0.0953 - val_acc: 0.9668 - val_auc: 0.9593\n",
      "\n",
      "Epoch 00067: val_auc did not improve\n",
      "Epoch 68/90\n",
      "177/177 [==============================] - 359s 2s/step - loss: 0.0775 - acc: 0.9750 - auc: 0.9577 - val_loss: 0.0964 - val_acc: 0.9672 - val_auc: 0.9605\n",
      "\n",
      "Epoch 00068: val_auc did not improve\n",
      "Epoch 69/90\n",
      " 65/177 [==========>...................] - ETA: 3:05 - loss: 0.0752 - acc: 0.9757 - auc: 0.9574177/177 [==============================] - 357s 2s/step - loss: 0.0765 - acc: 0.9750 - auc: 0.9586 - val_loss: 0.0913 - val_acc: 0.9683 - val_auc: 0.9597\n",
      "\n",
      "Epoch 00069: val_auc did not improve\n",
      "Epoch 70/90\n",
      "177/177 [==============================] - 359s 2s/step - loss: 0.0781 - acc: 0.9745 - auc: 0.9568 - val_loss: 0.0801 - val_acc: 0.9743 - val_auc: 0.9606\n",
      "\n",
      "Epoch 00070: val_auc did not improve\n",
      "\n",
      "Epoch 00070: ReduceLROnPlateau reducing learning rate to 2.1870000637136398e-07.\n",
      "Epoch 71/90\n",
      " 60/177 [=========>....................] - ETA: 3:16 - loss: 0.0786 - acc: 0.9746 - auc: 0.9564177/177 [==============================] - 359s 2s/step - loss: 0.0745 - acc: 0.9759 - auc: 0.9609 - val_loss: 0.0817 - val_acc: 0.9733 - val_auc: 0.9599\n",
      "\n",
      "Epoch 00071: val_auc did not improve\n",
      "Epoch 72/90\n",
      "177/177 [==============================] - 357s 2s/step - loss: 0.0770 - acc: 0.9748 - auc: 0.9599 - val_loss: 0.0934 - val_acc: 0.9674 - val_auc: 0.9591\n",
      "\n",
      "Epoch 00072: val_auc did not improve\n",
      "Epoch 73/90\n",
      " 69/177 [==========>...................] - ETA: 3:00 - loss: 0.0794 - acc: 0.9744 - auc: 0.9548177/177 [==============================] - 357s 2s/step - loss: 0.0786 - acc: 0.9743 - auc: 0.9573 - val_loss: 0.0968 - val_acc: 0.9666 - val_auc: 0.9610\n",
      "\n",
      "Epoch 00073: val_auc did not improve\n",
      "Epoch 74/90\n",
      "177/177 [==============================] - 352s 2s/step - loss: 0.0779 - acc: 0.9748 - auc: 0.9573 - val_loss: 0.1097 - val_acc: 0.9623 - val_auc: 0.9591\n",
      "\n",
      "Epoch 00074: val_auc did not improve\n",
      "Epoch 75/90\n",
      " 71/177 [===========>..................] - ETA: 2:52 - loss: 0.0759 - acc: 0.9755 - auc: 0.9594177/177 [==============================] - 353s 2s/step - loss: 0.0766 - acc: 0.9748 - auc: 0.9603 - val_loss: 0.0853 - val_acc: 0.9721 - val_auc: 0.9619\n",
      "\n",
      "Epoch 00075: val_auc improved from 0.96185 to 0.96188, saving model to drive/Colab Notebooks/logs/0426/weight75-0.96188.h5\n",
      "\n",
      "Epoch 00075: ReduceLROnPlateau reducing learning rate to 1e-07.\n",
      "Epoch 76/90\n",
      "177/177 [==============================] - 356s 2s/step - loss: 0.0773 - acc: 0.9750 - auc: 0.9584 - val_loss: 0.0974 - val_acc: 0.9673 - val_auc: 0.9609\n",
      "\n",
      "Epoch 00076: val_auc did not improve\n",
      "Epoch 77/90\n",
      " 13/177 [=>............................] - ETA: 2:41 - loss: 0.0855 - acc: 0.9694 - auc: 0.9601177/177 [==============================] - 357s 2s/step - loss: 0.0766 - acc: 0.9747 - auc: 0.9578 - val_loss: 0.1157 - val_acc: 0.9603 - val_auc: 0.9589\n",
      "\n",
      "Epoch 00077: val_auc did not improve\n",
      "Epoch 78/90\n",
      "177/177 [==============================] - 358s 2s/step - loss: 0.0781 - acc: 0.9748 - auc: 0.9590 - val_loss: 0.0790 - val_acc: 0.9742 - val_auc: 0.9617\n",
      "\n",
      "Epoch 00078: val_auc did not improve\n",
      "Epoch 79/90\n",
      " 59/177 [=========>....................] - ETA: 3:08 - loss: 0.0771 - acc: 0.9744 - auc: 0.9593177/177 [==============================] - 355s 2s/step - loss: 0.0774 - acc: 0.9744 - auc: 0.9601 - val_loss: 0.0944 - val_acc: 0.9675 - val_auc: 0.9610\n",
      "\n",
      "Epoch 00079: val_auc did not improve\n",
      "Epoch 80/90\n",
      "177/177 [==============================] - 353s 2s/step - loss: 0.0769 - acc: 0.9747 - auc: 0.9593 - val_loss: 0.0895 - val_acc: 0.9697 - val_auc: 0.9613\n",
      "\n",
      "Epoch 00080: val_auc did not improve\n",
      "\n",
      "Epoch 00080: ReduceLROnPlateau reducing learning rate to 1e-07.\n",
      "Epoch 81/90\n",
      " 60/177 [=========>....................] - ETA: 3:16 - loss: 0.0772 - acc: 0.9749 - auc: 0.9592177/177 [==============================] - 359s 2s/step - loss: 0.0763 - acc: 0.9752 - auc: 0.9599 - val_loss: 0.0886 - val_acc: 0.9700 - val_auc: 0.9607\n",
      "\n",
      "Epoch 00081: val_auc did not improve\n",
      "Epoch 82/90\n",
      "177/177 [==============================] - 358s 2s/step - loss: 0.0768 - acc: 0.9753 - auc: 0.9588 - val_loss: 0.1003 - val_acc: 0.9662 - val_auc: 0.9603\n",
      "\n",
      "Epoch 00082: val_auc did not improve\n",
      "Epoch 83/90\n",
      " 69/177 [==========>...................] - ETA: 3:00 - loss: 0.0788 - acc: 0.9743 - auc: 0.9574177/177 [==============================] - 358s 2s/step - loss: 0.0779 - acc: 0.9746 - auc: 0.9584 - val_loss: 0.0999 - val_acc: 0.9667 - val_auc: 0.9604\n",
      "\n",
      "Epoch 00083: val_auc did not improve\n",
      "Epoch 84/90\n",
      "177/177 [==============================] - 356s 2s/step - loss: 0.0761 - acc: 0.9750 - auc: 0.9617 - val_loss: 0.1134 - val_acc: 0.9604 - val_auc: 0.9591\n",
      "\n",
      "Epoch 00084: val_auc did not improve\n",
      "Epoch 85/90\n",
      " 70/177 [==========>...................] - ETA: 2:58 - loss: 0.0752 - acc: 0.9760 - auc: 0.9593177/177 [==============================] - 358s 2s/step - loss: 0.0752 - acc: 0.9760 - auc: 0.9590 - val_loss: 0.0928 - val_acc: 0.9680 - val_auc: 0.9608\n",
      "\n",
      "Epoch 00085: val_auc did not improve\n",
      "\n",
      "Epoch 00085: ReduceLROnPlateau reducing learning rate to 1e-07.\n",
      "Epoch 86/90\n",
      "177/177 [==============================] - 357s 2s/step - loss: 0.0764 - acc: 0.9749 - auc: 0.9608 - val_loss: 0.0879 - val_acc: 0.9705 - val_auc: 0.9614\n",
      "\n",
      "Epoch 00086: val_auc did not improve\n",
      "Epoch 87/90\n",
      " 43/177 [======>.......................] - ETA: 3:24 - loss: 0.0757 - acc: 0.9753 - auc: 0.9600177/177 [==============================] - 355s 2s/step - loss: 0.0775 - acc: 0.9749 - auc: 0.9586 - val_loss: 0.0906 - val_acc: 0.9688 - val_auc: 0.9596\n",
      "\n",
      "Epoch 00087: val_auc did not improve\n",
      "Epoch 88/90\n",
      "177/177 [==============================] - 360s 2s/step - loss: 0.0782 - acc: 0.9746 - auc: 0.9587 - val_loss: 0.0800 - val_acc: 0.9735 - val_auc: 0.9620\n",
      "\n",
      "Epoch 00088: val_auc improved from 0.96188 to 0.96197, saving model to drive/Colab Notebooks/logs/0426/weight88-0.96197.h5\n",
      "Epoch 89/90\n",
      " 55/177 [========>.....................] - ETA: 3:14 - loss: 0.0745 - acc: 0.9757 - auc: 0.9609177/177 [==============================] - 357s 2s/step - loss: 0.0778 - acc: 0.9747 - auc: 0.9594 - val_loss: 0.0804 - val_acc: 0.9736 - val_auc: 0.9616\n",
      "\n",
      "Epoch 00089: val_auc did not improve\n",
      "Epoch 90/90\n",
      "177/177 [==============================] - 354s 2s/step - loss: 0.0750 - acc: 0.9757 - auc: 0.9605 - val_loss: 0.1118 - val_acc: 0.9632 - val_auc: 0.9587\n",
      "\n",
      "Epoch 00090: val_auc did not improve\n"
     ]
    },
    {
     "data": {
      "text/plain": [
       "<keras.callbacks.History at 0x7f620fc427b8>"
      ]
     },
     "execution_count": 29,
     "metadata": {
      "tags": []
     },
     "output_type": "execute_result"
    }
   ],
   "source": [
    "batch_size = 500\n",
    "nb_epoch = 90\n",
    "\n",
    "# dimensions of our images.\n",
    "img_width, img_height = 32, 32\n",
    "\n",
    "train_data_dir = DATA_DIR.joinpath('train2').joinpath('train')\n",
    "validation_data_dir = DATA_DIR.joinpath('train2').joinpath('valid')\n",
    "log_dir = LOG_DIR.joinpath('{:%Y-%m-%d%H%M%S}'.format(datetime.datetime.now()))\n",
    "nb_train_samples = len(y_train)\n",
    "nb_validation_samples = len(y_valid)\n",
    "\n",
    "init_shape = (None, 7, img_width, img_height) if K.image_dim_ordering() == 'th' else (None, 32, 32, 7)\n",
    "\n",
    "def _auc(y_true, y_pred):\n",
    "  try:\n",
    "    return roc_auc_score(y_true, y_pred, average='macro', sample_weight=None).astype('float32')\n",
    "  except:\n",
    "    return np.float32(0.0)\n",
    "    \n",
    "\n",
    "def auc(y_true, y_pred) :\n",
    "    score = tf.py_func( _auc,\n",
    "                        [y_true, y_pred],\n",
    "                        'float32',\n",
    "                        stateful=False,\n",
    "                        name='sklearnAUC' )\n",
    "    return score\n",
    "\n",
    "# For WRN-16-8 put N = 2, k = 8\n",
    "# For WRN-28-10 put N = 4, k = 10\n",
    "# For WRN-40-4 put N = 6, k = 4\n",
    "model = wrn.create_wide_residual_network(init_shape, nb_classes=2, N=2, k=8, dropout=0.30)\n",
    "\n",
    "model.summary()\n",
    "# plot_model(model, \"WRN-16-8.png\", show_shapes=False)\n",
    "\n",
    "adam = Adam(lr=0.001, beta_1=0.9, beta_2=0.999, epsilon=None, decay=0.0, amsgrad=True)\n",
    "\n",
    "model.compile(loss='binary_crossentropy', optimizer=adam, metrics=['acc', auc])\n",
    "# model2.compile(loss='hinge', optimizer='adam', metrics=['acc', auc])\n",
    "print(\"Finished compiling\")\n",
    "\n",
    "# model.load_weights(\"weights/WRN-16-8 Weights.h5\")\n",
    "# print(\"Model loaded.\")\n",
    "\n",
    "cpcb = callbacks.ModelCheckpoint('drive/Colab Notebooks/logs/0426/weight{epoch:02d}-{val_auc:.5f}.h5',\n",
    "                                 monitor=\"val_auc\",\n",
    "                                 save_best_only=True,\n",
    "                                 mode='max',\n",
    "                                 verbose=1)\n",
    "\n",
    "tbcb = callbacks.TensorBoard(log_dir='drive/Colab Notebooks/logs/tb/0425',\n",
    "                             histogram_freq=0,\n",
    "                             batch_size=batch_size,\n",
    "                             write_graph=True,\n",
    "                             write_grads=False,\n",
    "                             write_images=False,\n",
    "                             embeddings_freq=0,\n",
    "                             embeddings_layer_names=None,\n",
    "                             embeddings_metadata=None)\n",
    "\n",
    "lrcb = callbacks.ReduceLROnPlateau(monitor='val_auc',\n",
    "                                   factor=0.3,\n",
    "                                   patience=5,\n",
    "                                   verbose=1,\n",
    "                                   mode='max',\n",
    "                                   epsilon=0.0001,\n",
    "                                   cooldown=0,\n",
    "                                   min_lr=0.0000001)\n",
    "\n",
    "def f(im):\n",
    "    im = ((im * 255) // (np.max(im))).astype(np.uint8)\n",
    "    l = []\n",
    "    for i in range(im.shape[2]):\n",
    "        l.append(cv2.adaptiveThreshold(im[:, :, i], 1, cv2.ADAPTIVE_THRESH_MEAN_C, cv2.THRESH_BINARY, 5, 2)[:, :, np.newaxis])\n",
    "    return np.concatenate(l, axis=2).astype(np.float)\n",
    "\n",
    "train_datagen = ImageDataGenerator(rotation_range=10,\n",
    "                                   width_shift_range=5./32,\n",
    "                                   height_shift_range=5./32,\n",
    "                                   horizontal_flip=True,\n",
    "                                   vertical_flip=True,\n",
    "                                   preprocessing_function=f,)\n",
    "\n",
    "test_datagen = ImageDataGenerator(preprocessing_function=f,)\n",
    "\n",
    "train_generator = train_datagen.flow_from_directory(\n",
    "    train_data_dir,\n",
    "    target_size=(img_width, img_height),\n",
    "    color_mode='landsat',\n",
    "    batch_size=batch_size,\n",
    "    class_mode='binary')\n",
    "\n",
    "validation_generator = test_datagen.flow_from_directory(\n",
    "    validation_data_dir,\n",
    "    target_size=(img_width, img_height),\n",
    "    color_mode='landsat',\n",
    "    batch_size=batch_size,\n",
    "    class_mode='binary')\n",
    "\n",
    "model.fit_generator(\n",
    "    train_generator,\n",
    "    steps_per_epoch=nb_train_samples // (batch_size*3),\n",
    "    epochs=nb_epoch,\n",
    "    callbacks=[cpcb, tbcb, lrcb],\n",
    "    validation_data=validation_generator,\n",
    "    validation_steps=nb_validation_samples // (batch_size*3),\n",
    "    workers=4)"
   ]
  },
  {
   "cell_type": "code",
   "execution_count": 0,
   "metadata": {
    "colab": {
     "autoexec": {
      "startup": false,
      "wait_interval": 0
     }
    },
    "colab_type": "code",
    "id": "EoaPp9vxm2OT"
   },
   "outputs": [],
   "source": [
    "def IOU(y_true, y_pred):\n",
    "    y_true = np.array(y_true)\n",
    "    y_pred = np.array(y_pred)\n",
    "    p_true_index = np.where(y_true==1)[0]\n",
    "    p_pred_index = np.where(y_pred==1)[0]\n",
    "    union = set(p_true_index).union(set(p_pred_index))\n",
    "    intersection = set(p_true_index).intersection(set(p_pred_index))\n",
    "    if len(union)==0:\n",
    "        return 0\n",
    "    else:\n",
    "        return len(intersection)/len(union)"
   ]
  },
  {
   "cell_type": "code",
   "execution_count": 31,
   "metadata": {
    "colab": {
     "autoexec": {
      "startup": false,
      "wait_interval": 0
     },
     "base_uri": "https://localhost:8080/",
     "height": 51
    },
    "colab_type": "code",
    "executionInfo": {
     "elapsed": 3896,
     "status": "ok",
     "timestamp": 1524709258085,
     "user": {
      "displayName": "澤田格",
      "photoUrl": "https://lh3.googleusercontent.com/a/default-user=s128",
      "userId": "108006320976410388579"
     },
     "user_tz": -540
    },
    "id": "-Ny-AhPim2R-",
    "outputId": "84340cd7-c694-4f93-86f8-89c2fa688ba9"
   },
   "outputs": [
    {
     "name": "stderr",
     "output_type": "stream",
     "text": [
      "/usr/local/lib/python3.6/dist-packages/ipykernel_launcher.py:73: RuntimeWarning: invalid value encountered in floor_divide\n"
     ]
    },
    {
     "name": "stdout",
     "output_type": "stream",
     "text": [
      "Found 29619 images belonging to 2 classes.\n"
     ]
    }
   ],
   "source": [
    "test_generator = test_datagen.flow_from_directory(\n",
    "    validation_data_dir,\n",
    "    target_size=(img_width, img_height),\n",
    "    color_mode='landsat',\n",
    "    batch_size=5000,\n",
    "    class_mode='binary')"
   ]
  },
  {
   "cell_type": "code",
   "execution_count": 32,
   "metadata": {
    "colab": {
     "autoexec": {
      "startup": false,
      "wait_interval": 0
     },
     "base_uri": "https://localhost:8080/",
     "height": 34
    },
    "colab_type": "code",
    "executionInfo": {
     "elapsed": 8389,
     "status": "ok",
     "timestamp": 1524709267902,
     "user": {
      "displayName": "澤田格",
      "photoUrl": "https://lh3.googleusercontent.com/a/default-user=s128",
      "userId": "108006320976410388579"
     },
     "user_tz": -540
    },
    "id": "Iu8s6NSznJ6v",
    "outputId": "6273ad5c-7e34-4f6c-a7cf-1f573605125e"
   },
   "outputs": [
    {
     "name": "stderr",
     "output_type": "stream",
     "text": [
      "/usr/local/lib/python3.6/dist-packages/ipykernel_launcher.py:73: RuntimeWarning: invalid value encountered in floor_divide\n"
     ]
    }
   ],
   "source": [
    "X_test = test_generator.next()"
   ]
  },
  {
   "cell_type": "code",
   "execution_count": 0,
   "metadata": {
    "colab": {
     "autoexec": {
      "startup": false,
      "wait_interval": 0
     }
    },
    "colab_type": "code",
    "id": "hsdNRQspnJ90"
   },
   "outputs": [],
   "source": [
    "y_pred = model.predict(X_test[0])\n",
    "y_true = X_test[1]"
   ]
  },
  {
   "cell_type": "code",
   "execution_count": 34,
   "metadata": {
    "colab": {
     "autoexec": {
      "startup": false,
      "wait_interval": 0
     },
     "base_uri": "https://localhost:8080/",
     "height": 34
    },
    "colab_type": "code",
    "executionInfo": {
     "elapsed": 551,
     "status": "ok",
     "timestamp": 1524709277021,
     "user": {
      "displayName": "澤田格",
      "photoUrl": "https://lh3.googleusercontent.com/a/default-user=s128",
      "userId": "108006320976410388579"
     },
     "user_tz": -540
    },
    "id": "ugbVNGiKnKeH",
    "outputId": "427b8848-a47d-453b-8271-074caae55206"
   },
   "outputs": [
    {
     "data": {
      "text/plain": [
       "0.9564751599767307"
      ]
     },
     "execution_count": 34,
     "metadata": {
      "tags": []
     },
     "output_type": "execute_result"
    }
   ],
   "source": [
    "roc_auc_score(y_true, y_pred)"
   ]
  },
  {
   "cell_type": "code",
   "execution_count": 35,
   "metadata": {
    "colab": {
     "autoexec": {
      "startup": false,
      "wait_interval": 0
     },
     "base_uri": "https://localhost:8080/",
     "height": 34
    },
    "colab_type": "code",
    "executionInfo": {
     "elapsed": 419,
     "status": "ok",
     "timestamp": 1524709277683,
     "user": {
      "displayName": "澤田格",
      "photoUrl": "https://lh3.googleusercontent.com/a/default-user=s128",
      "userId": "108006320976410388579"
     },
     "user_tz": -540
    },
    "id": "AEpx7G11nKjf",
    "outputId": "59dccec2-5ea9-4245-9e91-8d1a2edbb8b5"
   },
   "outputs": [
    {
     "data": {
      "text/plain": [
       "0.45454545454545453"
      ]
     },
     "execution_count": 35,
     "metadata": {
      "tags": []
     },
     "output_type": "execute_result"
    }
   ],
   "source": [
    "IOU(y_true, y_pred > .872)"
   ]
  },
  {
   "cell_type": "code",
   "execution_count": 0,
   "metadata": {
    "colab": {
     "autoexec": {
      "startup": false,
      "wait_interval": 0
     }
    },
    "colab_type": "code",
    "id": "aN3xKA8npGFN"
   },
   "outputs": [],
   "source": [
    "model.save_weights('drive/Colab Notebooks/logs/weight_last.h5')"
   ]
  },
  {
   "cell_type": "code",
   "execution_count": 0,
   "metadata": {
    "colab": {
     "autoexec": {
      "startup": false,
      "wait_interval": 0
     }
    },
    "colab_type": "code",
    "id": "eXyJ51sZpGNz"
   },
   "outputs": [],
   "source": [
    "model.save('drive/Colab Notebooks/logs/model_last.ckpt')"
   ]
  },
  {
   "cell_type": "code",
   "execution_count": 20,
   "metadata": {
    "colab": {
     "autoexec": {
      "startup": false,
      "wait_interval": 0
     },
     "base_uri": "https://localhost:8080/",
     "height": 2856
    },
    "colab_type": "code",
    "executionInfo": {
     "elapsed": 3016,
     "status": "ok",
     "timestamp": 1524751788368,
     "user": {
      "displayName": "澤田格",
      "photoUrl": "https://lh3.googleusercontent.com/a/default-user=s128",
      "userId": "108006320976410388579"
     },
     "user_tz": -540
    },
    "id": "CEPbrYCYpMnx",
    "outputId": "52b57d68-f6cd-4e77-acb4-037fe294490d"
   },
   "outputs": [
    {
     "name": "stdout",
     "output_type": "stream",
     "text": [
      "Wide Residual Network-21-8 created.\n",
      "__________________________________________________________________________________________________\n",
      "Layer (type)                    Output Shape         Param #     Connected to                     \n",
      "==================================================================================================\n",
      "input_1 (InputLayer)            (None, 32, 32, 7)    0                                            \n",
      "__________________________________________________________________________________________________\n",
      "conv2d_1 (Conv2D)               (None, 32, 32, 16)   1024        input_1[0][0]                    \n",
      "__________________________________________________________________________________________________\n",
      "batch_normalization_1 (BatchNor (None, 32, 32, 16)   64          conv2d_1[0][0]                   \n",
      "__________________________________________________________________________________________________\n",
      "activation_1 (Activation)       (None, 32, 32, 16)   0           batch_normalization_1[0][0]      \n",
      "__________________________________________________________________________________________________\n",
      "batch_normalization_2 (BatchNor (None, 32, 32, 16)   64          activation_1[0][0]               \n",
      "__________________________________________________________________________________________________\n",
      "activation_2 (Activation)       (None, 32, 32, 16)   0           batch_normalization_2[0][0]      \n",
      "__________________________________________________________________________________________________\n",
      "conv2d_3 (Conv2D)               (None, 32, 32, 32)   544         activation_2[0][0]               \n",
      "__________________________________________________________________________________________________\n",
      "batch_normalization_3 (BatchNor (None, 32, 32, 32)   128         conv2d_3[0][0]                   \n",
      "__________________________________________________________________________________________________\n",
      "activation_3 (Activation)       (None, 32, 32, 32)   0           batch_normalization_3[0][0]      \n",
      "__________________________________________________________________________________________________\n",
      "conv2d_4 (Conv2D)               (None, 32, 32, 32)   9248        activation_3[0][0]               \n",
      "__________________________________________________________________________________________________\n",
      "batch_normalization_4 (BatchNor (None, 32, 32, 32)   128         conv2d_4[0][0]                   \n",
      "__________________________________________________________________________________________________\n",
      "activation_4 (Activation)       (None, 32, 32, 32)   0           batch_normalization_4[0][0]      \n",
      "__________________________________________________________________________________________________\n",
      "dropout_1 (Dropout)             (None, 32, 32, 32)   0           activation_4[0][0]               \n",
      "__________________________________________________________________________________________________\n",
      "conv2d_5 (Conv2D)               (None, 32, 32, 128)  4224        dropout_1[0][0]                  \n",
      "__________________________________________________________________________________________________\n",
      "conv2d_2 (Conv2D)               (None, 32, 32, 128)  2176        activation_1[0][0]               \n",
      "__________________________________________________________________________________________________\n",
      "add_1 (Add)                     (None, 32, 32, 128)  0           conv2d_5[0][0]                   \n",
      "                                                                 conv2d_2[0][0]                   \n",
      "__________________________________________________________________________________________________\n",
      "batch_normalization_5 (BatchNor (None, 32, 32, 128)  512         add_1[0][0]                      \n",
      "__________________________________________________________________________________________________\n",
      "activation_5 (Activation)       (None, 32, 32, 128)  0           batch_normalization_5[0][0]      \n",
      "__________________________________________________________________________________________________\n",
      "conv2d_6 (Conv2D)               (None, 32, 32, 32)   4128        activation_5[0][0]               \n",
      "__________________________________________________________________________________________________\n",
      "batch_normalization_6 (BatchNor (None, 32, 32, 32)   128         conv2d_6[0][0]                   \n",
      "__________________________________________________________________________________________________\n",
      "activation_6 (Activation)       (None, 32, 32, 32)   0           batch_normalization_6[0][0]      \n",
      "__________________________________________________________________________________________________\n",
      "conv2d_7 (Conv2D)               (None, 32, 32, 32)   9248        activation_6[0][0]               \n",
      "__________________________________________________________________________________________________\n",
      "batch_normalization_7 (BatchNor (None, 32, 32, 32)   128         conv2d_7[0][0]                   \n",
      "__________________________________________________________________________________________________\n",
      "activation_7 (Activation)       (None, 32, 32, 32)   0           batch_normalization_7[0][0]      \n",
      "__________________________________________________________________________________________________\n",
      "dropout_2 (Dropout)             (None, 32, 32, 32)   0           activation_7[0][0]               \n",
      "__________________________________________________________________________________________________\n",
      "conv2d_8 (Conv2D)               (None, 32, 32, 128)  4224        dropout_2[0][0]                  \n",
      "__________________________________________________________________________________________________\n",
      "add_2 (Add)                     (None, 32, 32, 128)  0           conv2d_8[0][0]                   \n",
      "                                                                 add_1[0][0]                      \n",
      "__________________________________________________________________________________________________\n",
      "batch_normalization_8 (BatchNor (None, 32, 32, 128)  512         add_2[0][0]                      \n",
      "__________________________________________________________________________________________________\n",
      "activation_8 (Activation)       (None, 32, 32, 128)  0           batch_normalization_8[0][0]      \n",
      "__________________________________________________________________________________________________\n",
      "conv2d_10 (Conv2D)              (None, 32, 32, 64)   8256        activation_8[0][0]               \n",
      "__________________________________________________________________________________________________\n",
      "batch_normalization_9 (BatchNor (None, 32, 32, 64)   256         conv2d_10[0][0]                  \n",
      "__________________________________________________________________________________________________\n",
      "activation_9 (Activation)       (None, 32, 32, 64)   0           batch_normalization_9[0][0]      \n",
      "__________________________________________________________________________________________________\n",
      "conv2d_11 (Conv2D)              (None, 16, 16, 64)   36928       activation_9[0][0]               \n",
      "__________________________________________________________________________________________________\n",
      "batch_normalization_10 (BatchNo (None, 16, 16, 64)   256         conv2d_11[0][0]                  \n",
      "__________________________________________________________________________________________________\n",
      "activation_10 (Activation)      (None, 16, 16, 64)   0           batch_normalization_10[0][0]     \n",
      "__________________________________________________________________________________________________\n",
      "dropout_3 (Dropout)             (None, 16, 16, 64)   0           activation_10[0][0]              \n",
      "__________________________________________________________________________________________________\n",
      "conv2d_12 (Conv2D)              (None, 16, 16, 256)  16640       dropout_3[0][0]                  \n",
      "__________________________________________________________________________________________________\n",
      "conv2d_9 (Conv2D)               (None, 16, 16, 256)  33024       add_2[0][0]                      \n",
      "__________________________________________________________________________________________________\n",
      "add_3 (Add)                     (None, 16, 16, 256)  0           conv2d_12[0][0]                  \n",
      "                                                                 conv2d_9[0][0]                   \n",
      "__________________________________________________________________________________________________\n",
      "batch_normalization_11 (BatchNo (None, 16, 16, 256)  1024        add_3[0][0]                      \n",
      "__________________________________________________________________________________________________\n",
      "activation_11 (Activation)      (None, 16, 16, 256)  0           batch_normalization_11[0][0]     \n",
      "__________________________________________________________________________________________________\n",
      "conv2d_13 (Conv2D)              (None, 16, 16, 64)   16448       activation_11[0][0]              \n",
      "__________________________________________________________________________________________________\n",
      "batch_normalization_12 (BatchNo (None, 16, 16, 64)   256         conv2d_13[0][0]                  \n",
      "__________________________________________________________________________________________________\n",
      "activation_12 (Activation)      (None, 16, 16, 64)   0           batch_normalization_12[0][0]     \n",
      "__________________________________________________________________________________________________\n",
      "conv2d_14 (Conv2D)              (None, 16, 16, 64)   36928       activation_12[0][0]              \n",
      "__________________________________________________________________________________________________\n",
      "batch_normalization_13 (BatchNo (None, 16, 16, 64)   256         conv2d_14[0][0]                  \n",
      "__________________________________________________________________________________________________\n",
      "activation_13 (Activation)      (None, 16, 16, 64)   0           batch_normalization_13[0][0]     \n",
      "__________________________________________________________________________________________________\n",
      "dropout_4 (Dropout)             (None, 16, 16, 64)   0           activation_13[0][0]              \n",
      "__________________________________________________________________________________________________\n",
      "conv2d_15 (Conv2D)              (None, 16, 16, 256)  16640       dropout_4[0][0]                  \n",
      "__________________________________________________________________________________________________\n",
      "add_4 (Add)                     (None, 16, 16, 256)  0           conv2d_15[0][0]                  \n",
      "                                                                 add_3[0][0]                      \n",
      "__________________________________________________________________________________________________\n",
      "batch_normalization_14 (BatchNo (None, 16, 16, 256)  1024        add_4[0][0]                      \n",
      "__________________________________________________________________________________________________\n",
      "activation_14 (Activation)      (None, 16, 16, 256)  0           batch_normalization_14[0][0]     \n",
      "__________________________________________________________________________________________________\n",
      "conv2d_17 (Conv2D)              (None, 16, 16, 128)  32896       activation_14[0][0]              \n",
      "__________________________________________________________________________________________________\n",
      "batch_normalization_15 (BatchNo (None, 16, 16, 128)  512         conv2d_17[0][0]                  \n",
      "__________________________________________________________________________________________________\n",
      "activation_15 (Activation)      (None, 16, 16, 128)  0           batch_normalization_15[0][0]     \n",
      "__________________________________________________________________________________________________\n",
      "conv2d_18 (Conv2D)              (None, 8, 8, 128)    147584      activation_15[0][0]              \n",
      "__________________________________________________________________________________________________\n",
      "batch_normalization_16 (BatchNo (None, 8, 8, 128)    512         conv2d_18[0][0]                  \n",
      "__________________________________________________________________________________________________\n",
      "activation_16 (Activation)      (None, 8, 8, 128)    0           batch_normalization_16[0][0]     \n",
      "__________________________________________________________________________________________________\n",
      "dropout_5 (Dropout)             (None, 8, 8, 128)    0           activation_16[0][0]              \n",
      "__________________________________________________________________________________________________\n",
      "conv2d_19 (Conv2D)              (None, 8, 8, 512)    66048       dropout_5[0][0]                  \n",
      "__________________________________________________________________________________________________\n",
      "conv2d_16 (Conv2D)              (None, 8, 8, 512)    131584      add_4[0][0]                      \n",
      "__________________________________________________________________________________________________\n",
      "add_5 (Add)                     (None, 8, 8, 512)    0           conv2d_19[0][0]                  \n",
      "                                                                 conv2d_16[0][0]                  \n",
      "__________________________________________________________________________________________________\n",
      "batch_normalization_17 (BatchNo (None, 8, 8, 512)    2048        add_5[0][0]                      \n",
      "__________________________________________________________________________________________________\n",
      "activation_17 (Activation)      (None, 8, 8, 512)    0           batch_normalization_17[0][0]     \n",
      "__________________________________________________________________________________________________\n",
      "conv2d_20 (Conv2D)              (None, 8, 8, 128)    65664       activation_17[0][0]              \n",
      "__________________________________________________________________________________________________\n",
      "batch_normalization_18 (BatchNo (None, 8, 8, 128)    512         conv2d_20[0][0]                  \n",
      "__________________________________________________________________________________________________\n",
      "activation_18 (Activation)      (None, 8, 8, 128)    0           batch_normalization_18[0][0]     \n",
      "__________________________________________________________________________________________________\n",
      "conv2d_21 (Conv2D)              (None, 8, 8, 128)    147584      activation_18[0][0]              \n",
      "__________________________________________________________________________________________________\n",
      "batch_normalization_19 (BatchNo (None, 8, 8, 128)    512         conv2d_21[0][0]                  \n",
      "__________________________________________________________________________________________________\n",
      "activation_19 (Activation)      (None, 8, 8, 128)    0           batch_normalization_19[0][0]     \n",
      "__________________________________________________________________________________________________\n",
      "dropout_6 (Dropout)             (None, 8, 8, 128)    0           activation_19[0][0]              \n",
      "__________________________________________________________________________________________________\n",
      "conv2d_22 (Conv2D)              (None, 8, 8, 512)    66048       dropout_6[0][0]                  \n",
      "__________________________________________________________________________________________________\n",
      "add_6 (Add)                     (None, 8, 8, 512)    0           conv2d_22[0][0]                  \n",
      "                                                                 add_5[0][0]                      \n",
      "__________________________________________________________________________________________________\n",
      "average_pooling2d_1 (AveragePoo (None, 1, 1, 512)    0           add_6[0][0]                      \n",
      "__________________________________________________________________________________________________\n",
      "flatten_1 (Flatten)             (None, 512)          0           average_pooling2d_1[0][0]        \n",
      "__________________________________________________________________________________________________\n",
      "dense_1 (Dense)                 (None, 1)            513         flatten_1[0][0]                  \n",
      "==================================================================================================\n",
      "Total params: 866,433\n",
      "Trainable params: 862,017\n",
      "Non-trainable params: 4,416\n",
      "__________________________________________________________________________________________________\n",
      "Finished compiling\n"
     ]
    }
   ],
   "source": [
    "batch_size = 500\n",
    "nb_epoch = 90\n",
    "\n",
    "# dimensions of our images.\n",
    "img_width, img_height = 32, 32\n",
    "\n",
    "train_data_dir = DATA_DIR.joinpath('train2').joinpath('train')\n",
    "validation_data_dir = DATA_DIR.joinpath('train2').joinpath('valid')\n",
    "log_dir = LOG_DIR.joinpath('{:%Y-%m-%d%H%M%S}'.format(datetime.datetime.now()))\n",
    "nb_train_samples = len(y_train)\n",
    "nb_validation_samples = len(y_valid)\n",
    "\n",
    "init_shape = (None, 7, img_width, img_height) if K.image_dim_ordering() == 'th' else (None, 32, 32, 7)\n",
    "\n",
    "def auc(y_true, y_pred) :\n",
    "    score = tf.py_func( lambda y_true, y_pred : roc_auc_score(y_true, y_pred, average='macro', sample_weight=None).astype('float32'),\n",
    "                        [y_true, y_pred],\n",
    "                        'float32',\n",
    "                        stateful=False,\n",
    "                        name='sklearnAUC' )\n",
    "    return score\n",
    "\n",
    "# For WRN-16-8 put N = 2, k = 8\n",
    "# For WRN-28-10 put N = 4, k = 10\n",
    "# For WRN-40-4 put N = 6, k = 4\n",
    "model = wrn.create_wide_residual_network(init_shape, nb_classes=2, N=2, k=8, dropout=0.30)\n",
    "\n",
    "model.summary()\n",
    "# plot_model(model, \"WRN-16-8.png\", show_shapes=False)\n",
    "\n",
    "model.compile(loss='binary_crossentropy', optimizer='adam', metrics=['acc', auc])\n",
    "# model2.compile(loss='hinge', optimizer='adam', metrics=['acc', auc])\n",
    "print(\"Finished compiling\")"
   ]
  },
  {
   "cell_type": "code",
   "execution_count": 0,
   "metadata": {
    "colab": {
     "autoexec": {
      "startup": false,
      "wait_interval": 0
     }
    },
    "colab_type": "code",
    "id": "i9TToXyCQ2tE"
   },
   "outputs": [],
   "source": [
    "model.load_weights('drive/Colab Notebooks/logs/0426/weight88-0.96197.h5')"
   ]
  },
  {
   "cell_type": "code",
   "execution_count": 0,
   "metadata": {
    "colab": {
     "autoexec": {
      "startup": false,
      "wait_interval": 0
     }
    },
    "colab_type": "code",
    "id": "SPDuyTNHQ2xq"
   },
   "outputs": [],
   "source": [
    "def f(im):\n",
    "    im = ((im * 255) // (np.max(im))).astype(np.uint8)\n",
    "    l = []\n",
    "    for i in range(im.shape[2]):\n",
    "        l.append(cv2.adaptiveThreshold(im[:, :, i], 1, cv2.ADAPTIVE_THRESH_MEAN_C, cv2.THRESH_BINARY, 5, 2)[:, :, np.newaxis])\n",
    "    return np.concatenate(l, axis=2).astype(np.float)\n",
    "\n",
    "test_datagen = ImageDataGenerator(preprocessing_function=f,)"
   ]
  },
  {
   "cell_type": "code",
   "execution_count": 25,
   "metadata": {
    "colab": {
     "autoexec": {
      "startup": false,
      "wait_interval": 0
     },
     "base_uri": "https://localhost:8080/",
     "height": 34
    },
    "colab_type": "code",
    "executionInfo": {
     "elapsed": 2046,
     "status": "ok",
     "timestamp": 1524752025619,
     "user": {
      "displayName": "澤田格",
      "photoUrl": "https://lh3.googleusercontent.com/a/default-user=s128",
      "userId": "108006320976410388579"
     },
     "user_tz": -540
    },
    "id": "PwHtQsu_Q23y",
    "outputId": "9bd0f433-9287-4e69-f23f-7fe929dcebac"
   },
   "outputs": [
    {
     "name": "stdout",
     "output_type": "stream",
     "text": [
      "Found 29619 images belonging to 2 classes.\n"
     ]
    }
   ],
   "source": [
    "test_generator = test_datagen.flow_from_directory(\n",
    "    validation_data_dir,\n",
    "    target_size=(img_width, img_height),\n",
    "    color_mode='landsat',\n",
    "    batch_size=5000,\n",
    "    class_mode='binary',\n",
    "    seed=216)"
   ]
  },
  {
   "cell_type": "code",
   "execution_count": 26,
   "metadata": {
    "colab": {
     "autoexec": {
      "startup": false,
      "wait_interval": 0
     },
     "base_uri": "https://localhost:8080/",
     "height": 51
    },
    "colab_type": "code",
    "executionInfo": {
     "elapsed": 8463,
     "status": "ok",
     "timestamp": 1524752035184,
     "user": {
      "displayName": "澤田格",
      "photoUrl": "https://lh3.googleusercontent.com/a/default-user=s128",
      "userId": "108006320976410388579"
     },
     "user_tz": -540
    },
    "id": "imD-ZxvyQ29I",
    "outputId": "b58957ec-75bd-458e-af1a-b15be0cfbf95"
   },
   "outputs": [
    {
     "name": "stderr",
     "output_type": "stream",
     "text": [
      "/usr/local/lib/python3.6/dist-packages/ipykernel_launcher.py:2: RuntimeWarning: invalid value encountered in floor_divide\n",
      "  \n"
     ]
    }
   ],
   "source": [
    "X_test = test_generator.next()"
   ]
  },
  {
   "cell_type": "code",
   "execution_count": 0,
   "metadata": {
    "colab": {
     "autoexec": {
      "startup": false,
      "wait_interval": 0
     }
    },
    "colab_type": "code",
    "id": "_JsRRzyuRTGe"
   },
   "outputs": [],
   "source": [
    "y_pred = model.predict(X_test[0])\n",
    "y_true = X_test[1]"
   ]
  },
  {
   "cell_type": "code",
   "execution_count": 28,
   "metadata": {
    "colab": {
     "autoexec": {
      "startup": false,
      "wait_interval": 0
     },
     "base_uri": "https://localhost:8080/",
     "height": 34
    },
    "colab_type": "code",
    "executionInfo": {
     "elapsed": 525,
     "status": "ok",
     "timestamp": 1524752046988,
     "user": {
      "displayName": "澤田格",
      "photoUrl": "https://lh3.googleusercontent.com/a/default-user=s128",
      "userId": "108006320976410388579"
     },
     "user_tz": -540
    },
    "id": "qR8Iw-OJRTMK",
    "outputId": "f5ccbc94-1c5d-4895-a6db-a8fb0eb63f64"
   },
   "outputs": [
    {
     "data": {
      "text/plain": [
       "0.9548467837962625"
      ]
     },
     "execution_count": 28,
     "metadata": {
      "tags": []
     },
     "output_type": "execute_result"
    }
   ],
   "source": [
    "roc_auc_score(y_true, y_pred)"
   ]
  },
  {
   "cell_type": "code",
   "execution_count": 43,
   "metadata": {
    "colab": {
     "autoexec": {
      "startup": false,
      "wait_interval": 0
     },
     "base_uri": "https://localhost:8080/",
     "height": 34
    },
    "colab_type": "code",
    "executionInfo": {
     "elapsed": 514,
     "status": "ok",
     "timestamp": 1524752109335,
     "user": {
      "displayName": "澤田格",
      "photoUrl": "https://lh3.googleusercontent.com/a/default-user=s128",
      "userId": "108006320976410388579"
     },
     "user_tz": -540
    },
    "id": "u_cSkm2yRTQd",
    "outputId": "8d5d2e61-fab2-4135-8ab3-8dbae07f984b"
   },
   "outputs": [
    {
     "data": {
      "text/plain": [
       "0.47368421052631576"
      ]
     },
     "execution_count": 43,
     "metadata": {
      "tags": []
     },
     "output_type": "execute_result"
    }
   ],
   "source": [
    "IOU(y_true, y_pred > .41)"
   ]
  },
  {
   "cell_type": "code",
   "execution_count": 44,
   "metadata": {
    "colab": {
     "autoexec": {
      "startup": false,
      "wait_interval": 0
     },
     "base_uri": "https://localhost:8080/",
     "height": 2856
    },
    "colab_type": "code",
    "executionInfo": {
     "elapsed": 2916,
     "status": "ok",
     "timestamp": 1524752239988,
     "user": {
      "displayName": "澤田格",
      "photoUrl": "https://lh3.googleusercontent.com/a/default-user=s128",
      "userId": "108006320976410388579"
     },
     "user_tz": -540
    },
    "id": "qSl9SRT7Q3A7",
    "outputId": "195ac08c-6aa8-4f41-8a15-a2ca84501276"
   },
   "outputs": [
    {
     "name": "stdout",
     "output_type": "stream",
     "text": [
      "Wide Residual Network-21-8 created.\n",
      "__________________________________________________________________________________________________\n",
      "Layer (type)                    Output Shape         Param #     Connected to                     \n",
      "==================================================================================================\n",
      "input_2 (InputLayer)            (None, 32, 32, 7)    0                                            \n",
      "__________________________________________________________________________________________________\n",
      "conv2d_23 (Conv2D)              (None, 32, 32, 16)   1024        input_2[0][0]                    \n",
      "__________________________________________________________________________________________________\n",
      "batch_normalization_20 (BatchNo (None, 32, 32, 16)   64          conv2d_23[0][0]                  \n",
      "__________________________________________________________________________________________________\n",
      "activation_20 (Activation)      (None, 32, 32, 16)   0           batch_normalization_20[0][0]     \n",
      "__________________________________________________________________________________________________\n",
      "batch_normalization_21 (BatchNo (None, 32, 32, 16)   64          activation_20[0][0]              \n",
      "__________________________________________________________________________________________________\n",
      "activation_21 (Activation)      (None, 32, 32, 16)   0           batch_normalization_21[0][0]     \n",
      "__________________________________________________________________________________________________\n",
      "conv2d_25 (Conv2D)              (None, 32, 32, 32)   544         activation_21[0][0]              \n",
      "__________________________________________________________________________________________________\n",
      "batch_normalization_22 (BatchNo (None, 32, 32, 32)   128         conv2d_25[0][0]                  \n",
      "__________________________________________________________________________________________________\n",
      "activation_22 (Activation)      (None, 32, 32, 32)   0           batch_normalization_22[0][0]     \n",
      "__________________________________________________________________________________________________\n",
      "conv2d_26 (Conv2D)              (None, 32, 32, 32)   9248        activation_22[0][0]              \n",
      "__________________________________________________________________________________________________\n",
      "batch_normalization_23 (BatchNo (None, 32, 32, 32)   128         conv2d_26[0][0]                  \n",
      "__________________________________________________________________________________________________\n",
      "activation_23 (Activation)      (None, 32, 32, 32)   0           batch_normalization_23[0][0]     \n",
      "__________________________________________________________________________________________________\n",
      "dropout_7 (Dropout)             (None, 32, 32, 32)   0           activation_23[0][0]              \n",
      "__________________________________________________________________________________________________\n",
      "conv2d_27 (Conv2D)              (None, 32, 32, 128)  4224        dropout_7[0][0]                  \n",
      "__________________________________________________________________________________________________\n",
      "conv2d_24 (Conv2D)              (None, 32, 32, 128)  2176        activation_20[0][0]              \n",
      "__________________________________________________________________________________________________\n",
      "add_7 (Add)                     (None, 32, 32, 128)  0           conv2d_27[0][0]                  \n",
      "                                                                 conv2d_24[0][0]                  \n",
      "__________________________________________________________________________________________________\n",
      "batch_normalization_24 (BatchNo (None, 32, 32, 128)  512         add_7[0][0]                      \n",
      "__________________________________________________________________________________________________\n",
      "activation_24 (Activation)      (None, 32, 32, 128)  0           batch_normalization_24[0][0]     \n",
      "__________________________________________________________________________________________________\n",
      "conv2d_28 (Conv2D)              (None, 32, 32, 32)   4128        activation_24[0][0]              \n",
      "__________________________________________________________________________________________________\n",
      "batch_normalization_25 (BatchNo (None, 32, 32, 32)   128         conv2d_28[0][0]                  \n",
      "__________________________________________________________________________________________________\n",
      "activation_25 (Activation)      (None, 32, 32, 32)   0           batch_normalization_25[0][0]     \n",
      "__________________________________________________________________________________________________\n",
      "conv2d_29 (Conv2D)              (None, 32, 32, 32)   9248        activation_25[0][0]              \n",
      "__________________________________________________________________________________________________\n",
      "batch_normalization_26 (BatchNo (None, 32, 32, 32)   128         conv2d_29[0][0]                  \n",
      "__________________________________________________________________________________________________\n",
      "activation_26 (Activation)      (None, 32, 32, 32)   0           batch_normalization_26[0][0]     \n",
      "__________________________________________________________________________________________________\n",
      "dropout_8 (Dropout)             (None, 32, 32, 32)   0           activation_26[0][0]              \n",
      "__________________________________________________________________________________________________\n",
      "conv2d_30 (Conv2D)              (None, 32, 32, 128)  4224        dropout_8[0][0]                  \n",
      "__________________________________________________________________________________________________\n",
      "add_8 (Add)                     (None, 32, 32, 128)  0           conv2d_30[0][0]                  \n",
      "                                                                 add_7[0][0]                      \n",
      "__________________________________________________________________________________________________\n",
      "batch_normalization_27 (BatchNo (None, 32, 32, 128)  512         add_8[0][0]                      \n",
      "__________________________________________________________________________________________________\n",
      "activation_27 (Activation)      (None, 32, 32, 128)  0           batch_normalization_27[0][0]     \n",
      "__________________________________________________________________________________________________\n",
      "conv2d_32 (Conv2D)              (None, 32, 32, 64)   8256        activation_27[0][0]              \n",
      "__________________________________________________________________________________________________\n",
      "batch_normalization_28 (BatchNo (None, 32, 32, 64)   256         conv2d_32[0][0]                  \n",
      "__________________________________________________________________________________________________\n",
      "activation_28 (Activation)      (None, 32, 32, 64)   0           batch_normalization_28[0][0]     \n",
      "__________________________________________________________________________________________________\n",
      "conv2d_33 (Conv2D)              (None, 16, 16, 64)   36928       activation_28[0][0]              \n",
      "__________________________________________________________________________________________________\n",
      "batch_normalization_29 (BatchNo (None, 16, 16, 64)   256         conv2d_33[0][0]                  \n",
      "__________________________________________________________________________________________________\n",
      "activation_29 (Activation)      (None, 16, 16, 64)   0           batch_normalization_29[0][0]     \n",
      "__________________________________________________________________________________________________\n",
      "dropout_9 (Dropout)             (None, 16, 16, 64)   0           activation_29[0][0]              \n",
      "__________________________________________________________________________________________________\n",
      "conv2d_34 (Conv2D)              (None, 16, 16, 256)  16640       dropout_9[0][0]                  \n",
      "__________________________________________________________________________________________________\n",
      "conv2d_31 (Conv2D)              (None, 16, 16, 256)  33024       add_8[0][0]                      \n",
      "__________________________________________________________________________________________________\n",
      "add_9 (Add)                     (None, 16, 16, 256)  0           conv2d_34[0][0]                  \n",
      "                                                                 conv2d_31[0][0]                  \n",
      "__________________________________________________________________________________________________\n",
      "batch_normalization_30 (BatchNo (None, 16, 16, 256)  1024        add_9[0][0]                      \n",
      "__________________________________________________________________________________________________\n",
      "activation_30 (Activation)      (None, 16, 16, 256)  0           batch_normalization_30[0][0]     \n",
      "__________________________________________________________________________________________________\n",
      "conv2d_35 (Conv2D)              (None, 16, 16, 64)   16448       activation_30[0][0]              \n",
      "__________________________________________________________________________________________________\n",
      "batch_normalization_31 (BatchNo (None, 16, 16, 64)   256         conv2d_35[0][0]                  \n",
      "__________________________________________________________________________________________________\n",
      "activation_31 (Activation)      (None, 16, 16, 64)   0           batch_normalization_31[0][0]     \n",
      "__________________________________________________________________________________________________\n",
      "conv2d_36 (Conv2D)              (None, 16, 16, 64)   36928       activation_31[0][0]              \n",
      "__________________________________________________________________________________________________\n",
      "batch_normalization_32 (BatchNo (None, 16, 16, 64)   256         conv2d_36[0][0]                  \n",
      "__________________________________________________________________________________________________\n",
      "activation_32 (Activation)      (None, 16, 16, 64)   0           batch_normalization_32[0][0]     \n",
      "__________________________________________________________________________________________________\n",
      "dropout_10 (Dropout)            (None, 16, 16, 64)   0           activation_32[0][0]              \n",
      "__________________________________________________________________________________________________\n",
      "conv2d_37 (Conv2D)              (None, 16, 16, 256)  16640       dropout_10[0][0]                 \n",
      "__________________________________________________________________________________________________\n",
      "add_10 (Add)                    (None, 16, 16, 256)  0           conv2d_37[0][0]                  \n",
      "                                                                 add_9[0][0]                      \n",
      "__________________________________________________________________________________________________\n",
      "batch_normalization_33 (BatchNo (None, 16, 16, 256)  1024        add_10[0][0]                     \n",
      "__________________________________________________________________________________________________\n",
      "activation_33 (Activation)      (None, 16, 16, 256)  0           batch_normalization_33[0][0]     \n",
      "__________________________________________________________________________________________________\n",
      "conv2d_39 (Conv2D)              (None, 16, 16, 128)  32896       activation_33[0][0]              \n",
      "__________________________________________________________________________________________________\n",
      "batch_normalization_34 (BatchNo (None, 16, 16, 128)  512         conv2d_39[0][0]                  \n",
      "__________________________________________________________________________________________________\n",
      "activation_34 (Activation)      (None, 16, 16, 128)  0           batch_normalization_34[0][0]     \n",
      "__________________________________________________________________________________________________\n",
      "conv2d_40 (Conv2D)              (None, 8, 8, 128)    147584      activation_34[0][0]              \n",
      "__________________________________________________________________________________________________\n",
      "batch_normalization_35 (BatchNo (None, 8, 8, 128)    512         conv2d_40[0][0]                  \n",
      "__________________________________________________________________________________________________\n",
      "activation_35 (Activation)      (None, 8, 8, 128)    0           batch_normalization_35[0][0]     \n",
      "__________________________________________________________________________________________________\n",
      "dropout_11 (Dropout)            (None, 8, 8, 128)    0           activation_35[0][0]              \n",
      "__________________________________________________________________________________________________\n",
      "conv2d_41 (Conv2D)              (None, 8, 8, 512)    66048       dropout_11[0][0]                 \n",
      "__________________________________________________________________________________________________\n",
      "conv2d_38 (Conv2D)              (None, 8, 8, 512)    131584      add_10[0][0]                     \n",
      "__________________________________________________________________________________________________\n",
      "add_11 (Add)                    (None, 8, 8, 512)    0           conv2d_41[0][0]                  \n",
      "                                                                 conv2d_38[0][0]                  \n",
      "__________________________________________________________________________________________________\n",
      "batch_normalization_36 (BatchNo (None, 8, 8, 512)    2048        add_11[0][0]                     \n",
      "__________________________________________________________________________________________________\n",
      "activation_36 (Activation)      (None, 8, 8, 512)    0           batch_normalization_36[0][0]     \n",
      "__________________________________________________________________________________________________\n",
      "conv2d_42 (Conv2D)              (None, 8, 8, 128)    65664       activation_36[0][0]              \n",
      "__________________________________________________________________________________________________\n",
      "batch_normalization_37 (BatchNo (None, 8, 8, 128)    512         conv2d_42[0][0]                  \n",
      "__________________________________________________________________________________________________\n",
      "activation_37 (Activation)      (None, 8, 8, 128)    0           batch_normalization_37[0][0]     \n",
      "__________________________________________________________________________________________________\n",
      "conv2d_43 (Conv2D)              (None, 8, 8, 128)    147584      activation_37[0][0]              \n",
      "__________________________________________________________________________________________________\n",
      "batch_normalization_38 (BatchNo (None, 8, 8, 128)    512         conv2d_43[0][0]                  \n",
      "__________________________________________________________________________________________________\n",
      "activation_38 (Activation)      (None, 8, 8, 128)    0           batch_normalization_38[0][0]     \n",
      "__________________________________________________________________________________________________\n",
      "dropout_12 (Dropout)            (None, 8, 8, 128)    0           activation_38[0][0]              \n",
      "__________________________________________________________________________________________________\n",
      "conv2d_44 (Conv2D)              (None, 8, 8, 512)    66048       dropout_12[0][0]                 \n",
      "__________________________________________________________________________________________________\n",
      "add_12 (Add)                    (None, 8, 8, 512)    0           conv2d_44[0][0]                  \n",
      "                                                                 add_11[0][0]                     \n",
      "__________________________________________________________________________________________________\n",
      "average_pooling2d_2 (AveragePoo (None, 1, 1, 512)    0           add_12[0][0]                     \n",
      "__________________________________________________________________________________________________\n",
      "flatten_2 (Flatten)             (None, 512)          0           average_pooling2d_2[0][0]        \n",
      "__________________________________________________________________________________________________\n",
      "dense_2 (Dense)                 (None, 1)            513         flatten_2[0][0]                  \n",
      "==================================================================================================\n",
      "Total params: 866,433\n",
      "Trainable params: 862,017\n",
      "Non-trainable params: 4,416\n",
      "__________________________________________________________________________________________________\n",
      "Finished compiling\n"
     ]
    }
   ],
   "source": [
    "batch_size = 500\n",
    "nb_epoch = 90\n",
    "\n",
    "# dimensions of our images.\n",
    "img_width, img_height = 32, 32\n",
    "\n",
    "train_data_dir = DATA_DIR.joinpath('train2').joinpath('train')\n",
    "validation_data_dir = DATA_DIR.joinpath('train2').joinpath('valid')\n",
    "log_dir = LOG_DIR.joinpath('{:%Y-%m-%d%H%M%S}'.format(datetime.datetime.now()))\n",
    "nb_train_samples = len(y_train)\n",
    "nb_validation_samples = len(y_valid)\n",
    "\n",
    "init_shape = (None, 7, img_width, img_height) if K.image_dim_ordering() == 'th' else (None, 32, 32, 7)\n",
    "\n",
    "def auc(y_true, y_pred) :\n",
    "    score = tf.py_func( lambda y_true, y_pred : roc_auc_score(y_true, y_pred, average='macro', sample_weight=None).astype('float32'),\n",
    "                        [y_true, y_pred],\n",
    "                        'float32',\n",
    "                        stateful=False,\n",
    "                        name='sklearnAUC' )\n",
    "    return score\n",
    "\n",
    "# For WRN-16-8 put N = 2, k = 8\n",
    "# For WRN-28-10 put N = 4, k = 10\n",
    "# For WRN-40-4 put N = 6, k = 4\n",
    "model2 = wrn.create_wide_residual_network(init_shape, nb_classes=2, N=2, k=8, dropout=0.30)\n",
    "\n",
    "model2.summary()\n",
    "# plot_model(model, \"WRN-16-8.png\", show_shapes=False)\n",
    "\n",
    "model2.compile(loss='binary_crossentropy', optimizer='adam', metrics=['acc', auc])\n",
    "# model2.compile(loss='hinge', optimizer='adam', metrics=['acc', auc])\n",
    "print(\"Finished compiling\")"
   ]
  },
  {
   "cell_type": "code",
   "execution_count": 0,
   "metadata": {
    "colab": {
     "autoexec": {
      "startup": false,
      "wait_interval": 0
     }
    },
    "colab_type": "code",
    "id": "HM1RrA-tT8l6"
   },
   "outputs": [],
   "source": [
    "test_datagen2 = ImageDataGenerator(samplewise_center=True,\n",
    "                                  samplewise_std_normalization=True)"
   ]
  },
  {
   "cell_type": "code",
   "execution_count": 46,
   "metadata": {
    "colab": {
     "autoexec": {
      "startup": false,
      "wait_interval": 0
     },
     "base_uri": "https://localhost:8080/",
     "height": 34
    },
    "colab_type": "code",
    "executionInfo": {
     "elapsed": 2252,
     "status": "ok",
     "timestamp": 1524752247489,
     "user": {
      "displayName": "澤田格",
      "photoUrl": "https://lh3.googleusercontent.com/a/default-user=s128",
      "userId": "108006320976410388579"
     },
     "user_tz": -540
    },
    "id": "opBsxTLaT1qd",
    "outputId": "54f074c0-c992-4e04-c244-e05b2085e33f"
   },
   "outputs": [
    {
     "name": "stdout",
     "output_type": "stream",
     "text": [
      "Found 29619 images belonging to 2 classes.\n"
     ]
    }
   ],
   "source": [
    "test_generator2 = test_datagen2.flow_from_directory(\n",
    "    validation_data_dir,\n",
    "    target_size=(img_width, img_height),\n",
    "    color_mode='landsat',\n",
    "    batch_size=5000,\n",
    "    class_mode='binary',\n",
    "    seed=216)"
   ]
  },
  {
   "cell_type": "code",
   "execution_count": 0,
   "metadata": {
    "colab": {
     "autoexec": {
      "startup": false,
      "wait_interval": 0
     }
    },
    "colab_type": "code",
    "id": "O_GCV1HnT1we"
   },
   "outputs": [],
   "source": [
    "X_test2 = test_generator2.next()"
   ]
  },
  {
   "cell_type": "code",
   "execution_count": 0,
   "metadata": {
    "colab": {
     "autoexec": {
      "startup": false,
      "wait_interval": 0
     }
    },
    "colab_type": "code",
    "id": "ey8JLsiSRgWd"
   },
   "outputs": [],
   "source": [
    "model2.load_weights('drive/Colab Notebooks/logs/0426/weight82-0.99.h5')"
   ]
  },
  {
   "cell_type": "code",
   "execution_count": 0,
   "metadata": {
    "colab": {
     "autoexec": {
      "startup": false,
      "wait_interval": 0
     }
    },
    "colab_type": "code",
    "id": "ZdD4-ZhURmzS"
   },
   "outputs": [],
   "source": [
    "y_pred2 = model2.predict(X_test2[0])"
   ]
  },
  {
   "cell_type": "code",
   "execution_count": 0,
   "metadata": {
    "colab": {
     "autoexec": {
      "startup": false,
      "wait_interval": 0
     }
    },
    "colab_type": "code",
    "id": "tA80LoKCRm5n"
   },
   "outputs": [],
   "source": [
    "y_pred3 = y_pred*.1 + y_pred2*.9"
   ]
  },
  {
   "cell_type": "code",
   "execution_count": 67,
   "metadata": {
    "colab": {
     "autoexec": {
      "startup": false,
      "wait_interval": 0
     },
     "base_uri": "https://localhost:8080/",
     "height": 34
    },
    "colab_type": "code",
    "executionInfo": {
     "elapsed": 516,
     "status": "ok",
     "timestamp": 1524752369644,
     "user": {
      "displayName": "澤田格",
      "photoUrl": "https://lh3.googleusercontent.com/a/default-user=s128",
      "userId": "108006320976410388579"
     },
     "user_tz": -540
    },
    "id": "Z_9NNbyCRm-D",
    "outputId": "2d60832f-28ce-4edf-dc34-163db8c40fa9"
   },
   "outputs": [
    {
     "data": {
      "text/plain": [
       "0.9800500595368279"
      ]
     },
     "execution_count": 67,
     "metadata": {
      "tags": []
     },
     "output_type": "execute_result"
    }
   ],
   "source": [
    "roc_auc_score(y_true, y_pred3)"
   ]
  },
  {
   "cell_type": "code",
   "execution_count": 75,
   "metadata": {
    "colab": {
     "autoexec": {
      "startup": false,
      "wait_interval": 0
     },
     "base_uri": "https://localhost:8080/",
     "height": 34
    },
    "colab_type": "code",
    "executionInfo": {
     "elapsed": 494,
     "status": "ok",
     "timestamp": 1524752417825,
     "user": {
      "displayName": "澤田格",
      "photoUrl": "https://lh3.googleusercontent.com/a/default-user=s128",
      "userId": "108006320976410388579"
     },
     "user_tz": -540
    },
    "id": "RCeuuhsbRnEA",
    "outputId": "c167b527-350d-4330-c65a-0547c1c854c2"
   },
   "outputs": [
    {
     "data": {
      "text/plain": [
       "0.6271186440677966"
      ]
     },
     "execution_count": 75,
     "metadata": {
      "tags": []
     },
     "output_type": "execute_result"
    }
   ],
   "source": [
    "IOU(y_true, y_pred3 > .88)"
   ]
  },
  {
   "cell_type": "code",
   "execution_count": 0,
   "metadata": {
    "colab": {
     "autoexec": {
      "startup": false,
      "wait_interval": 0
     }
    },
    "colab_type": "code",
    "id": "SQPLQvgyRnL9"
   },
   "outputs": [],
   "source": []
  }
 ],
 "metadata": {
  "accelerator": "GPU",
  "colab": {
   "default_view": {},
   "name": "Untitled0.ipynb",
   "provenance": [],
   "version": "0.3.2",
   "views": {}
  },
  "kernelspec": {
   "display_name": "Python 3",
   "language": "python",
   "name": "python3"
  },
  "language_info": {
   "codemirror_mode": {
    "name": "ipython",
    "version": 3
   },
   "file_extension": ".py",
   "mimetype": "text/x-python",
   "name": "python",
   "nbconvert_exporter": "python",
   "pygments_lexer": "ipython3",
   "version": "3.6.5"
  }
 },
 "nbformat": 4,
 "nbformat_minor": 1
}
